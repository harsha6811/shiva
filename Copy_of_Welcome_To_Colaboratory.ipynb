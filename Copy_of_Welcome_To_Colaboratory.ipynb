{
  "cells": [
    {
      "cell_type": "markdown",
      "metadata": {
        "id": "view-in-github",
        "colab_type": "text"
      },
      "source": [
        "<a href=\"https://colab.research.google.com/github/harsha6811/shiva/blob/main/Copy_of_Welcome_To_Colaboratory.ipynb\" target=\"_parent\"><img src=\"https://colab.research.google.com/assets/colab-badge.svg\" alt=\"Open In Colab\"/></a>"
      ]
    },
    {
      "cell_type": "code",
      "execution_count": null,
      "metadata": {
        "id": "Hzfgke6xaZaQ",
        "colab": {
          "base_uri": "https://localhost:8080/",
          "height": 74
        },
        "outputId": "22170990-894f-4866-f920-c288e9e799ac"
      },
      "outputs": [
        {
          "output_type": "display_data",
          "data": {
            "text/plain": [
              "<IPython.core.display.HTML object>"
            ],
            "text/html": [
              "\n",
              "     <input type=\"file\" id=\"files-000749b5-a277-4752-b3ae-7c0e20531dda\" name=\"files[]\" multiple disabled\n",
              "        style=\"border:none\" />\n",
              "     <output id=\"result-000749b5-a277-4752-b3ae-7c0e20531dda\">\n",
              "      Upload widget is only available when the cell has been executed in the\n",
              "      current browser session. Please rerun this cell to enable.\n",
              "      </output>\n",
              "      <script>// Copyright 2017 Google LLC\n",
              "//\n",
              "// Licensed under the Apache License, Version 2.0 (the \"License\");\n",
              "// you may not use this file except in compliance with the License.\n",
              "// You may obtain a copy of the License at\n",
              "//\n",
              "//      http://www.apache.org/licenses/LICENSE-2.0\n",
              "//\n",
              "// Unless required by applicable law or agreed to in writing, software\n",
              "// distributed under the License is distributed on an \"AS IS\" BASIS,\n",
              "// WITHOUT WARRANTIES OR CONDITIONS OF ANY KIND, either express or implied.\n",
              "// See the License for the specific language governing permissions and\n",
              "// limitations under the License.\n",
              "\n",
              "/**\n",
              " * @fileoverview Helpers for google.colab Python module.\n",
              " */\n",
              "(function(scope) {\n",
              "function span(text, styleAttributes = {}) {\n",
              "  const element = document.createElement('span');\n",
              "  element.textContent = text;\n",
              "  for (const key of Object.keys(styleAttributes)) {\n",
              "    element.style[key] = styleAttributes[key];\n",
              "  }\n",
              "  return element;\n",
              "}\n",
              "\n",
              "// Max number of bytes which will be uploaded at a time.\n",
              "const MAX_PAYLOAD_SIZE = 100 * 1024;\n",
              "\n",
              "function _uploadFiles(inputId, outputId) {\n",
              "  const steps = uploadFilesStep(inputId, outputId);\n",
              "  const outputElement = document.getElementById(outputId);\n",
              "  // Cache steps on the outputElement to make it available for the next call\n",
              "  // to uploadFilesContinue from Python.\n",
              "  outputElement.steps = steps;\n",
              "\n",
              "  return _uploadFilesContinue(outputId);\n",
              "}\n",
              "\n",
              "// This is roughly an async generator (not supported in the browser yet),\n",
              "// where there are multiple asynchronous steps and the Python side is going\n",
              "// to poll for completion of each step.\n",
              "// This uses a Promise to block the python side on completion of each step,\n",
              "// then passes the result of the previous step as the input to the next step.\n",
              "function _uploadFilesContinue(outputId) {\n",
              "  const outputElement = document.getElementById(outputId);\n",
              "  const steps = outputElement.steps;\n",
              "\n",
              "  const next = steps.next(outputElement.lastPromiseValue);\n",
              "  return Promise.resolve(next.value.promise).then((value) => {\n",
              "    // Cache the last promise value to make it available to the next\n",
              "    // step of the generator.\n",
              "    outputElement.lastPromiseValue = value;\n",
              "    return next.value.response;\n",
              "  });\n",
              "}\n",
              "\n",
              "/**\n",
              " * Generator function which is called between each async step of the upload\n",
              " * process.\n",
              " * @param {string} inputId Element ID of the input file picker element.\n",
              " * @param {string} outputId Element ID of the output display.\n",
              " * @return {!Iterable<!Object>} Iterable of next steps.\n",
              " */\n",
              "function* uploadFilesStep(inputId, outputId) {\n",
              "  const inputElement = document.getElementById(inputId);\n",
              "  inputElement.disabled = false;\n",
              "\n",
              "  const outputElement = document.getElementById(outputId);\n",
              "  outputElement.innerHTML = '';\n",
              "\n",
              "  const pickedPromise = new Promise((resolve) => {\n",
              "    inputElement.addEventListener('change', (e) => {\n",
              "      resolve(e.target.files);\n",
              "    });\n",
              "  });\n",
              "\n",
              "  const cancel = document.createElement('button');\n",
              "  inputElement.parentElement.appendChild(cancel);\n",
              "  cancel.textContent = 'Cancel upload';\n",
              "  const cancelPromise = new Promise((resolve) => {\n",
              "    cancel.onclick = () => {\n",
              "      resolve(null);\n",
              "    };\n",
              "  });\n",
              "\n",
              "  // Wait for the user to pick the files.\n",
              "  const files = yield {\n",
              "    promise: Promise.race([pickedPromise, cancelPromise]),\n",
              "    response: {\n",
              "      action: 'starting',\n",
              "    }\n",
              "  };\n",
              "\n",
              "  cancel.remove();\n",
              "\n",
              "  // Disable the input element since further picks are not allowed.\n",
              "  inputElement.disabled = true;\n",
              "\n",
              "  if (!files) {\n",
              "    return {\n",
              "      response: {\n",
              "        action: 'complete',\n",
              "      }\n",
              "    };\n",
              "  }\n",
              "\n",
              "  for (const file of files) {\n",
              "    const li = document.createElement('li');\n",
              "    li.append(span(file.name, {fontWeight: 'bold'}));\n",
              "    li.append(span(\n",
              "        `(${file.type || 'n/a'}) - ${file.size} bytes, ` +\n",
              "        `last modified: ${\n",
              "            file.lastModifiedDate ? file.lastModifiedDate.toLocaleDateString() :\n",
              "                                    'n/a'} - `));\n",
              "    const percent = span('0% done');\n",
              "    li.appendChild(percent);\n",
              "\n",
              "    outputElement.appendChild(li);\n",
              "\n",
              "    const fileDataPromise = new Promise((resolve) => {\n",
              "      const reader = new FileReader();\n",
              "      reader.onload = (e) => {\n",
              "        resolve(e.target.result);\n",
              "      };\n",
              "      reader.readAsArrayBuffer(file);\n",
              "    });\n",
              "    // Wait for the data to be ready.\n",
              "    let fileData = yield {\n",
              "      promise: fileDataPromise,\n",
              "      response: {\n",
              "        action: 'continue',\n",
              "      }\n",
              "    };\n",
              "\n",
              "    // Use a chunked sending to avoid message size limits. See b/62115660.\n",
              "    let position = 0;\n",
              "    do {\n",
              "      const length = Math.min(fileData.byteLength - position, MAX_PAYLOAD_SIZE);\n",
              "      const chunk = new Uint8Array(fileData, position, length);\n",
              "      position += length;\n",
              "\n",
              "      const base64 = btoa(String.fromCharCode.apply(null, chunk));\n",
              "      yield {\n",
              "        response: {\n",
              "          action: 'append',\n",
              "          file: file.name,\n",
              "          data: base64,\n",
              "        },\n",
              "      };\n",
              "\n",
              "      let percentDone = fileData.byteLength === 0 ?\n",
              "          100 :\n",
              "          Math.round((position / fileData.byteLength) * 100);\n",
              "      percent.textContent = `${percentDone}% done`;\n",
              "\n",
              "    } while (position < fileData.byteLength);\n",
              "  }\n",
              "\n",
              "  // All done.\n",
              "  yield {\n",
              "    response: {\n",
              "      action: 'complete',\n",
              "    }\n",
              "  };\n",
              "}\n",
              "\n",
              "scope.google = scope.google || {};\n",
              "scope.google.colab = scope.google.colab || {};\n",
              "scope.google.colab._files = {\n",
              "  _uploadFiles,\n",
              "  _uploadFilesContinue,\n",
              "};\n",
              "})(self);\n",
              "</script> "
            ]
          },
          "metadata": {}
        },
        {
          "output_type": "stream",
          "name": "stdout",
          "text": [
            "Saving IMDB-Movie-Data.csv to IMDB-Movie-Data (3).csv\n"
          ]
        }
      ],
      "source": [
        "import pandas as pd\n",
        "import seaborn as sns\n",
        "import matplotlib.pyplot as plt\n",
        "from google.colab import files\n",
        "import io\n",
        "data=files.upload()"
      ]
    },
    {
      "cell_type": "code",
      "source": [
        "data=pd.read_csv('IMDB-Movie-Data.csv',encoding=('ISO-8859-1'),low_memory=False)"
      ],
      "metadata": {
        "id": "q4RjiA_0VaMk"
      },
      "execution_count": null,
      "outputs": []
    },
    {
      "cell_type": "code",
      "source": [
        "data.isnull()"
      ],
      "metadata": {
        "id": "jFx22czMStTR",
        "colab": {
          "base_uri": "https://localhost:8080/",
          "height": 424
        },
        "outputId": "e3d2d44f-c74d-4a02-8e4a-bb21455a4d60"
      },
      "execution_count": null,
      "outputs": [
        {
          "output_type": "execute_result",
          "data": {
            "text/plain": [
              "      Rank  Genre   Year  Runtime (Minutes)  Rating  Votes  \\\n",
              "0    False  False  False              False   False  False   \n",
              "1    False  False  False              False   False  False   \n",
              "2    False  False  False              False   False  False   \n",
              "3    False  False  False              False   False  False   \n",
              "4    False  False  False              False   False  False   \n",
              "..     ...    ...    ...                ...     ...    ...   \n",
              "995  False  False  False              False   False  False   \n",
              "996  False  False  False              False   False  False   \n",
              "997  False  False  False              False   False  False   \n",
              "998  False  False  False              False   False  False   \n",
              "999  False  False  False              False   False  False   \n",
              "\n",
              "     Revenue (Millions)  Metascore  Title  \n",
              "0                 False      False  False  \n",
              "1                 False      False  False  \n",
              "2                 False      False  False  \n",
              "3                 False      False  False  \n",
              "4                 False      False  False  \n",
              "..                  ...        ...    ...  \n",
              "995                True      False  False  \n",
              "996               False      False  False  \n",
              "997               False      False  False  \n",
              "998                True      False  False  \n",
              "999               False      False  False  \n",
              "\n",
              "[1000 rows x 9 columns]"
            ],
            "text/html": [
              "\n",
              "  <div id=\"df-c410d722-e8ef-4b5f-a1d8-ee193a8cb88d\">\n",
              "    <div class=\"colab-df-container\">\n",
              "      <div>\n",
              "<style scoped>\n",
              "    .dataframe tbody tr th:only-of-type {\n",
              "        vertical-align: middle;\n",
              "    }\n",
              "\n",
              "    .dataframe tbody tr th {\n",
              "        vertical-align: top;\n",
              "    }\n",
              "\n",
              "    .dataframe thead th {\n",
              "        text-align: right;\n",
              "    }\n",
              "</style>\n",
              "<table border=\"1\" class=\"dataframe\">\n",
              "  <thead>\n",
              "    <tr style=\"text-align: right;\">\n",
              "      <th></th>\n",
              "      <th>Rank</th>\n",
              "      <th>Genre</th>\n",
              "      <th>Year</th>\n",
              "      <th>Runtime (Minutes)</th>\n",
              "      <th>Rating</th>\n",
              "      <th>Votes</th>\n",
              "      <th>Revenue (Millions)</th>\n",
              "      <th>Metascore</th>\n",
              "      <th>Title</th>\n",
              "    </tr>\n",
              "  </thead>\n",
              "  <tbody>\n",
              "    <tr>\n",
              "      <th>0</th>\n",
              "      <td>False</td>\n",
              "      <td>False</td>\n",
              "      <td>False</td>\n",
              "      <td>False</td>\n",
              "      <td>False</td>\n",
              "      <td>False</td>\n",
              "      <td>False</td>\n",
              "      <td>False</td>\n",
              "      <td>False</td>\n",
              "    </tr>\n",
              "    <tr>\n",
              "      <th>1</th>\n",
              "      <td>False</td>\n",
              "      <td>False</td>\n",
              "      <td>False</td>\n",
              "      <td>False</td>\n",
              "      <td>False</td>\n",
              "      <td>False</td>\n",
              "      <td>False</td>\n",
              "      <td>False</td>\n",
              "      <td>False</td>\n",
              "    </tr>\n",
              "    <tr>\n",
              "      <th>2</th>\n",
              "      <td>False</td>\n",
              "      <td>False</td>\n",
              "      <td>False</td>\n",
              "      <td>False</td>\n",
              "      <td>False</td>\n",
              "      <td>False</td>\n",
              "      <td>False</td>\n",
              "      <td>False</td>\n",
              "      <td>False</td>\n",
              "    </tr>\n",
              "    <tr>\n",
              "      <th>3</th>\n",
              "      <td>False</td>\n",
              "      <td>False</td>\n",
              "      <td>False</td>\n",
              "      <td>False</td>\n",
              "      <td>False</td>\n",
              "      <td>False</td>\n",
              "      <td>False</td>\n",
              "      <td>False</td>\n",
              "      <td>False</td>\n",
              "    </tr>\n",
              "    <tr>\n",
              "      <th>4</th>\n",
              "      <td>False</td>\n",
              "      <td>False</td>\n",
              "      <td>False</td>\n",
              "      <td>False</td>\n",
              "      <td>False</td>\n",
              "      <td>False</td>\n",
              "      <td>False</td>\n",
              "      <td>False</td>\n",
              "      <td>False</td>\n",
              "    </tr>\n",
              "    <tr>\n",
              "      <th>...</th>\n",
              "      <td>...</td>\n",
              "      <td>...</td>\n",
              "      <td>...</td>\n",
              "      <td>...</td>\n",
              "      <td>...</td>\n",
              "      <td>...</td>\n",
              "      <td>...</td>\n",
              "      <td>...</td>\n",
              "      <td>...</td>\n",
              "    </tr>\n",
              "    <tr>\n",
              "      <th>995</th>\n",
              "      <td>False</td>\n",
              "      <td>False</td>\n",
              "      <td>False</td>\n",
              "      <td>False</td>\n",
              "      <td>False</td>\n",
              "      <td>False</td>\n",
              "      <td>True</td>\n",
              "      <td>False</td>\n",
              "      <td>False</td>\n",
              "    </tr>\n",
              "    <tr>\n",
              "      <th>996</th>\n",
              "      <td>False</td>\n",
              "      <td>False</td>\n",
              "      <td>False</td>\n",
              "      <td>False</td>\n",
              "      <td>False</td>\n",
              "      <td>False</td>\n",
              "      <td>False</td>\n",
              "      <td>False</td>\n",
              "      <td>False</td>\n",
              "    </tr>\n",
              "    <tr>\n",
              "      <th>997</th>\n",
              "      <td>False</td>\n",
              "      <td>False</td>\n",
              "      <td>False</td>\n",
              "      <td>False</td>\n",
              "      <td>False</td>\n",
              "      <td>False</td>\n",
              "      <td>False</td>\n",
              "      <td>False</td>\n",
              "      <td>False</td>\n",
              "    </tr>\n",
              "    <tr>\n",
              "      <th>998</th>\n",
              "      <td>False</td>\n",
              "      <td>False</td>\n",
              "      <td>False</td>\n",
              "      <td>False</td>\n",
              "      <td>False</td>\n",
              "      <td>False</td>\n",
              "      <td>True</td>\n",
              "      <td>False</td>\n",
              "      <td>False</td>\n",
              "    </tr>\n",
              "    <tr>\n",
              "      <th>999</th>\n",
              "      <td>False</td>\n",
              "      <td>False</td>\n",
              "      <td>False</td>\n",
              "      <td>False</td>\n",
              "      <td>False</td>\n",
              "      <td>False</td>\n",
              "      <td>False</td>\n",
              "      <td>False</td>\n",
              "      <td>False</td>\n",
              "    </tr>\n",
              "  </tbody>\n",
              "</table>\n",
              "<p>1000 rows × 9 columns</p>\n",
              "</div>\n",
              "      <button class=\"colab-df-convert\" onclick=\"convertToInteractive('df-c410d722-e8ef-4b5f-a1d8-ee193a8cb88d')\"\n",
              "              title=\"Convert this dataframe to an interactive table.\"\n",
              "              style=\"display:none;\">\n",
              "        \n",
              "  <svg xmlns=\"http://www.w3.org/2000/svg\" height=\"24px\"viewBox=\"0 0 24 24\"\n",
              "       width=\"24px\">\n",
              "    <path d=\"M0 0h24v24H0V0z\" fill=\"none\"/>\n",
              "    <path d=\"M18.56 5.44l.94 2.06.94-2.06 2.06-.94-2.06-.94-.94-2.06-.94 2.06-2.06.94zm-11 1L8.5 8.5l.94-2.06 2.06-.94-2.06-.94L8.5 2.5l-.94 2.06-2.06.94zm10 10l.94 2.06.94-2.06 2.06-.94-2.06-.94-.94-2.06-.94 2.06-2.06.94z\"/><path d=\"M17.41 7.96l-1.37-1.37c-.4-.4-.92-.59-1.43-.59-.52 0-1.04.2-1.43.59L10.3 9.45l-7.72 7.72c-.78.78-.78 2.05 0 2.83L4 21.41c.39.39.9.59 1.41.59.51 0 1.02-.2 1.41-.59l7.78-7.78 2.81-2.81c.8-.78.8-2.07 0-2.86zM5.41 20L4 18.59l7.72-7.72 1.47 1.35L5.41 20z\"/>\n",
              "  </svg>\n",
              "      </button>\n",
              "      \n",
              "  <style>\n",
              "    .colab-df-container {\n",
              "      display:flex;\n",
              "      flex-wrap:wrap;\n",
              "      gap: 12px;\n",
              "    }\n",
              "\n",
              "    .colab-df-convert {\n",
              "      background-color: #E8F0FE;\n",
              "      border: none;\n",
              "      border-radius: 50%;\n",
              "      cursor: pointer;\n",
              "      display: none;\n",
              "      fill: #1967D2;\n",
              "      height: 32px;\n",
              "      padding: 0 0 0 0;\n",
              "      width: 32px;\n",
              "    }\n",
              "\n",
              "    .colab-df-convert:hover {\n",
              "      background-color: #E2EBFA;\n",
              "      box-shadow: 0px 1px 2px rgba(60, 64, 67, 0.3), 0px 1px 3px 1px rgba(60, 64, 67, 0.15);\n",
              "      fill: #174EA6;\n",
              "    }\n",
              "\n",
              "    [theme=dark] .colab-df-convert {\n",
              "      background-color: #3B4455;\n",
              "      fill: #D2E3FC;\n",
              "    }\n",
              "\n",
              "    [theme=dark] .colab-df-convert:hover {\n",
              "      background-color: #434B5C;\n",
              "      box-shadow: 0px 1px 3px 1px rgba(0, 0, 0, 0.15);\n",
              "      filter: drop-shadow(0px 1px 2px rgba(0, 0, 0, 0.3));\n",
              "      fill: #FFFFFF;\n",
              "    }\n",
              "  </style>\n",
              "\n",
              "      <script>\n",
              "        const buttonEl =\n",
              "          document.querySelector('#df-c410d722-e8ef-4b5f-a1d8-ee193a8cb88d button.colab-df-convert');\n",
              "        buttonEl.style.display =\n",
              "          google.colab.kernel.accessAllowed ? 'block' : 'none';\n",
              "\n",
              "        async function convertToInteractive(key) {\n",
              "          const element = document.querySelector('#df-c410d722-e8ef-4b5f-a1d8-ee193a8cb88d');\n",
              "          const dataTable =\n",
              "            await google.colab.kernel.invokeFunction('convertToInteractive',\n",
              "                                                     [key], {});\n",
              "          if (!dataTable) return;\n",
              "\n",
              "          const docLinkHtml = 'Like what you see? Visit the ' +\n",
              "            '<a target=\"_blank\" href=https://colab.research.google.com/notebooks/data_table.ipynb>data table notebook</a>'\n",
              "            + ' to learn more about interactive tables.';\n",
              "          element.innerHTML = '';\n",
              "          dataTable['output_type'] = 'display_data';\n",
              "          await google.colab.output.renderOutput(dataTable, element);\n",
              "          const docLink = document.createElement('div');\n",
              "          docLink.innerHTML = docLinkHtml;\n",
              "          element.appendChild(docLink);\n",
              "        }\n",
              "      </script>\n",
              "    </div>\n",
              "  </div>\n",
              "  "
            ]
          },
          "metadata": {},
          "execution_count": 93
        }
      ]
    },
    {
      "cell_type": "code",
      "source": [
        "data.info()"
      ],
      "metadata": {
        "colab": {
          "base_uri": "https://localhost:8080/"
        },
        "id": "7CcuOG4OS_5e",
        "outputId": "ba9f0051-9022-450d-b1e7-0c8f323e8488"
      },
      "execution_count": null,
      "outputs": [
        {
          "output_type": "stream",
          "name": "stdout",
          "text": [
            "<class 'pandas.core.frame.DataFrame'>\n",
            "RangeIndex: 1000 entries, 0 to 999\n",
            "Data columns (total 9 columns):\n",
            " #   Column              Non-Null Count  Dtype  \n",
            "---  ------              --------------  -----  \n",
            " 0   Rank                1000 non-null   int64  \n",
            " 1   Genre               1000 non-null   object \n",
            " 2   Year                1000 non-null   int64  \n",
            " 3   Runtime (Minutes)   1000 non-null   int64  \n",
            " 4   Rating              1000 non-null   float64\n",
            " 5   Votes               1000 non-null   int64  \n",
            " 6   Revenue (Millions)  872 non-null    float64\n",
            " 7   Metascore           936 non-null    float64\n",
            " 8   Title               1000 non-null   object \n",
            "dtypes: float64(3), int64(4), object(2)\n",
            "memory usage: 70.4+ KB\n"
          ]
        }
      ]
    },
    {
      "cell_type": "markdown",
      "source": [
        "# statistical description of dataset"
      ],
      "metadata": {
        "id": "1Fasq_WQT-rC"
      }
    },
    {
      "cell_type": "code",
      "source": [
        "data.describe()"
      ],
      "metadata": {
        "colab": {
          "base_uri": "https://localhost:8080/",
          "height": 300
        },
        "id": "q_KSKFkBUAng",
        "outputId": "d5abb141-6983-4f58-8e4e-e3d99faed9f7"
      },
      "execution_count": null,
      "outputs": [
        {
          "output_type": "execute_result",
          "data": {
            "text/plain": [
              "              Rank         Year  Runtime (Minutes)       Rating         Votes  \\\n",
              "count  1000.000000  1000.000000        1000.000000  1000.000000  1.000000e+03   \n",
              "mean    500.500000  2012.783000         113.172000     6.723200  1.698083e+05   \n",
              "std     288.819436     3.205962          18.810908     0.945429  1.887626e+05   \n",
              "min       1.000000  2006.000000          66.000000     1.900000  6.100000e+01   \n",
              "25%     250.750000  2010.000000         100.000000     6.200000  3.630900e+04   \n",
              "50%     500.500000  2014.000000         111.000000     6.800000  1.107990e+05   \n",
              "75%     750.250000  2016.000000         123.000000     7.400000  2.399098e+05   \n",
              "max    1000.000000  2016.000000         191.000000     9.000000  1.791916e+06   \n",
              "\n",
              "       Revenue (Millions)   Metascore  \n",
              "count          872.000000  936.000000  \n",
              "mean            82.956376   58.985043  \n",
              "std            103.253540   17.194757  \n",
              "min              0.000000   11.000000  \n",
              "25%             13.270000   47.000000  \n",
              "50%             47.985000   59.500000  \n",
              "75%            113.715000   72.000000  \n",
              "max            936.630000  100.000000  "
            ],
            "text/html": [
              "\n",
              "  <div id=\"df-38241d60-af2d-4c84-9554-580e6de50902\">\n",
              "    <div class=\"colab-df-container\">\n",
              "      <div>\n",
              "<style scoped>\n",
              "    .dataframe tbody tr th:only-of-type {\n",
              "        vertical-align: middle;\n",
              "    }\n",
              "\n",
              "    .dataframe tbody tr th {\n",
              "        vertical-align: top;\n",
              "    }\n",
              "\n",
              "    .dataframe thead th {\n",
              "        text-align: right;\n",
              "    }\n",
              "</style>\n",
              "<table border=\"1\" class=\"dataframe\">\n",
              "  <thead>\n",
              "    <tr style=\"text-align: right;\">\n",
              "      <th></th>\n",
              "      <th>Rank</th>\n",
              "      <th>Year</th>\n",
              "      <th>Runtime (Minutes)</th>\n",
              "      <th>Rating</th>\n",
              "      <th>Votes</th>\n",
              "      <th>Revenue (Millions)</th>\n",
              "      <th>Metascore</th>\n",
              "    </tr>\n",
              "  </thead>\n",
              "  <tbody>\n",
              "    <tr>\n",
              "      <th>count</th>\n",
              "      <td>1000.000000</td>\n",
              "      <td>1000.000000</td>\n",
              "      <td>1000.000000</td>\n",
              "      <td>1000.000000</td>\n",
              "      <td>1.000000e+03</td>\n",
              "      <td>872.000000</td>\n",
              "      <td>936.000000</td>\n",
              "    </tr>\n",
              "    <tr>\n",
              "      <th>mean</th>\n",
              "      <td>500.500000</td>\n",
              "      <td>2012.783000</td>\n",
              "      <td>113.172000</td>\n",
              "      <td>6.723200</td>\n",
              "      <td>1.698083e+05</td>\n",
              "      <td>82.956376</td>\n",
              "      <td>58.985043</td>\n",
              "    </tr>\n",
              "    <tr>\n",
              "      <th>std</th>\n",
              "      <td>288.819436</td>\n",
              "      <td>3.205962</td>\n",
              "      <td>18.810908</td>\n",
              "      <td>0.945429</td>\n",
              "      <td>1.887626e+05</td>\n",
              "      <td>103.253540</td>\n",
              "      <td>17.194757</td>\n",
              "    </tr>\n",
              "    <tr>\n",
              "      <th>min</th>\n",
              "      <td>1.000000</td>\n",
              "      <td>2006.000000</td>\n",
              "      <td>66.000000</td>\n",
              "      <td>1.900000</td>\n",
              "      <td>6.100000e+01</td>\n",
              "      <td>0.000000</td>\n",
              "      <td>11.000000</td>\n",
              "    </tr>\n",
              "    <tr>\n",
              "      <th>25%</th>\n",
              "      <td>250.750000</td>\n",
              "      <td>2010.000000</td>\n",
              "      <td>100.000000</td>\n",
              "      <td>6.200000</td>\n",
              "      <td>3.630900e+04</td>\n",
              "      <td>13.270000</td>\n",
              "      <td>47.000000</td>\n",
              "    </tr>\n",
              "    <tr>\n",
              "      <th>50%</th>\n",
              "      <td>500.500000</td>\n",
              "      <td>2014.000000</td>\n",
              "      <td>111.000000</td>\n",
              "      <td>6.800000</td>\n",
              "      <td>1.107990e+05</td>\n",
              "      <td>47.985000</td>\n",
              "      <td>59.500000</td>\n",
              "    </tr>\n",
              "    <tr>\n",
              "      <th>75%</th>\n",
              "      <td>750.250000</td>\n",
              "      <td>2016.000000</td>\n",
              "      <td>123.000000</td>\n",
              "      <td>7.400000</td>\n",
              "      <td>2.399098e+05</td>\n",
              "      <td>113.715000</td>\n",
              "      <td>72.000000</td>\n",
              "    </tr>\n",
              "    <tr>\n",
              "      <th>max</th>\n",
              "      <td>1000.000000</td>\n",
              "      <td>2016.000000</td>\n",
              "      <td>191.000000</td>\n",
              "      <td>9.000000</td>\n",
              "      <td>1.791916e+06</td>\n",
              "      <td>936.630000</td>\n",
              "      <td>100.000000</td>\n",
              "    </tr>\n",
              "  </tbody>\n",
              "</table>\n",
              "</div>\n",
              "      <button class=\"colab-df-convert\" onclick=\"convertToInteractive('df-38241d60-af2d-4c84-9554-580e6de50902')\"\n",
              "              title=\"Convert this dataframe to an interactive table.\"\n",
              "              style=\"display:none;\">\n",
              "        \n",
              "  <svg xmlns=\"http://www.w3.org/2000/svg\" height=\"24px\"viewBox=\"0 0 24 24\"\n",
              "       width=\"24px\">\n",
              "    <path d=\"M0 0h24v24H0V0z\" fill=\"none\"/>\n",
              "    <path d=\"M18.56 5.44l.94 2.06.94-2.06 2.06-.94-2.06-.94-.94-2.06-.94 2.06-2.06.94zm-11 1L8.5 8.5l.94-2.06 2.06-.94-2.06-.94L8.5 2.5l-.94 2.06-2.06.94zm10 10l.94 2.06.94-2.06 2.06-.94-2.06-.94-.94-2.06-.94 2.06-2.06.94z\"/><path d=\"M17.41 7.96l-1.37-1.37c-.4-.4-.92-.59-1.43-.59-.52 0-1.04.2-1.43.59L10.3 9.45l-7.72 7.72c-.78.78-.78 2.05 0 2.83L4 21.41c.39.39.9.59 1.41.59.51 0 1.02-.2 1.41-.59l7.78-7.78 2.81-2.81c.8-.78.8-2.07 0-2.86zM5.41 20L4 18.59l7.72-7.72 1.47 1.35L5.41 20z\"/>\n",
              "  </svg>\n",
              "      </button>\n",
              "      \n",
              "  <style>\n",
              "    .colab-df-container {\n",
              "      display:flex;\n",
              "      flex-wrap:wrap;\n",
              "      gap: 12px;\n",
              "    }\n",
              "\n",
              "    .colab-df-convert {\n",
              "      background-color: #E8F0FE;\n",
              "      border: none;\n",
              "      border-radius: 50%;\n",
              "      cursor: pointer;\n",
              "      display: none;\n",
              "      fill: #1967D2;\n",
              "      height: 32px;\n",
              "      padding: 0 0 0 0;\n",
              "      width: 32px;\n",
              "    }\n",
              "\n",
              "    .colab-df-convert:hover {\n",
              "      background-color: #E2EBFA;\n",
              "      box-shadow: 0px 1px 2px rgba(60, 64, 67, 0.3), 0px 1px 3px 1px rgba(60, 64, 67, 0.15);\n",
              "      fill: #174EA6;\n",
              "    }\n",
              "\n",
              "    [theme=dark] .colab-df-convert {\n",
              "      background-color: #3B4455;\n",
              "      fill: #D2E3FC;\n",
              "    }\n",
              "\n",
              "    [theme=dark] .colab-df-convert:hover {\n",
              "      background-color: #434B5C;\n",
              "      box-shadow: 0px 1px 3px 1px rgba(0, 0, 0, 0.15);\n",
              "      filter: drop-shadow(0px 1px 2px rgba(0, 0, 0, 0.3));\n",
              "      fill: #FFFFFF;\n",
              "    }\n",
              "  </style>\n",
              "\n",
              "      <script>\n",
              "        const buttonEl =\n",
              "          document.querySelector('#df-38241d60-af2d-4c84-9554-580e6de50902 button.colab-df-convert');\n",
              "        buttonEl.style.display =\n",
              "          google.colab.kernel.accessAllowed ? 'block' : 'none';\n",
              "\n",
              "        async function convertToInteractive(key) {\n",
              "          const element = document.querySelector('#df-38241d60-af2d-4c84-9554-580e6de50902');\n",
              "          const dataTable =\n",
              "            await google.colab.kernel.invokeFunction('convertToInteractive',\n",
              "                                                     [key], {});\n",
              "          if (!dataTable) return;\n",
              "\n",
              "          const docLinkHtml = 'Like what you see? Visit the ' +\n",
              "            '<a target=\"_blank\" href=https://colab.research.google.com/notebooks/data_table.ipynb>data table notebook</a>'\n",
              "            + ' to learn more about interactive tables.';\n",
              "          element.innerHTML = '';\n",
              "          dataTable['output_type'] = 'display_data';\n",
              "          await google.colab.output.renderOutput(dataTable, element);\n",
              "          const docLink = document.createElement('div');\n",
              "          docLink.innerHTML = docLinkHtml;\n",
              "          element.appendChild(docLink);\n",
              "        }\n",
              "      </script>\n",
              "    </div>\n",
              "  </div>\n",
              "  "
            ]
          },
          "metadata": {},
          "execution_count": 95
        }
      ]
    },
    {
      "cell_type": "markdown",
      "source": [
        "# to find the sum of null values in the dataset"
      ],
      "metadata": {
        "id": "S5mslxkLTwmQ"
      }
    },
    {
      "cell_type": "code",
      "source": [
        "data.isnull().sum()"
      ],
      "metadata": {
        "colab": {
          "base_uri": "https://localhost:8080/"
        },
        "id": "secnjLyNT0OB",
        "outputId": "c94746e9-8f96-4849-d8f8-3aaf23ce03c0"
      },
      "execution_count": null,
      "outputs": [
        {
          "output_type": "execute_result",
          "data": {
            "text/plain": [
              "Rank                    0\n",
              "Genre                   0\n",
              "Year                    0\n",
              "Runtime (Minutes)       0\n",
              "Rating                  0\n",
              "Votes                   0\n",
              "Revenue (Millions)    128\n",
              "Metascore              64\n",
              "Title                   0\n",
              "dtype: int64"
            ]
          },
          "metadata": {},
          "execution_count": 96
        }
      ]
    },
    {
      "cell_type": "markdown",
      "source": [
        "# Palette"
      ],
      "metadata": {
        "id": "17J4KUrCUYqo"
      }
    },
    {
      "cell_type": "code",
      "source": [
        "sns.palplot(['#f5c518', '#121212','#8b8b8b'])\n",
        "plt.title(\"IMDB Palette \",loc='left',fontfamily='Comic Sans MS',fontsize=15,y=1.2)\n",
        "plt.show()"
      ],
      "metadata": {
        "colab": {
          "base_uri": "https://localhost:8080/",
          "height": 118
        },
        "id": "6SBTYHlUUi8J",
        "outputId": "fc740b72-0e4d-4fdb-d0cf-7e8201a0497b"
      },
      "execution_count": null,
      "outputs": [
        {
          "output_type": "display_data",
          "data": {
            "text/plain": [
              "<Figure size 216x72 with 1 Axes>"
            ],
            "image/png": "[encoded data removed]"
          },
          "metadata": {
            "needs_background": "light"
          }
        }
      ]
    },
    {
      "cell_type": "code",
      "execution_count": null,
      "metadata": {
        "colab": {
          "base_uri": "https://localhost:8080/",
          "height": 369
        },
        "id": "Q7yyBTzzeK0t",
        "outputId": "2c302bf2-10c0-45be-8cbe-eb7dfa096cd1",
        "collapsed": true
      },
      "outputs": [
        {
          "output_type": "execute_result",
          "data": {
            "text/plain": [
              "<matplotlib.axes._subplots.AxesSubplot at 0x7f5225891d30>"
            ]
          },
          "metadata": {},
          "execution_count": 98
        },
        {
          "output_type": "display_data",
          "data": {
            "text/plain": [
              "<Figure size 432x288 with 2 Axes>"
            ],
            "image/png": "[encoded data removed]"
          },
          "metadata": {
            "needs_background": "light"
          }
        }
      ],
      "source": [
        "#@title\n",
        "sns.heatmap(data.isnull())"
      ]
    },
    {
      "cell_type": "markdown",
      "source": [],
      "metadata": {
        "id": "AXXxrCPuKd4V"
      }
    },
    {
      "cell_type": "code",
      "execution_count": null,
      "metadata": {
        "colab": {
          "base_uri": "https://localhost:8080/",
          "height": 295
        },
        "id": "WrcLdUBZgYfi",
        "outputId": "7bf47ddd-7d77-4dfd-9726-fb1e1a09ad11"
      },
      "outputs": [
        {
          "output_type": "display_data",
          "data": {
            "text/plain": [
              "<Figure size 432x288 with 1 Axes>"
            ],
            "image/png": "[encoded data removed]"
          },
          "metadata": {
            "needs_background": "light"
          }
        }
      ],
      "source": [
        "sns.barplot(x='Year',y='Votes',data=data)\n",
        "plt.title(\"Votes By Year\")\n",
        "plt.show()"
      ]
    },
    {
      "cell_type": "code",
      "execution_count": null,
      "metadata": {
        "colab": {
          "base_uri": "https://localhost:8080/",
          "height": 296
        },
        "id": "tCdx4R3RicQh",
        "outputId": "5be3bd03-fd5e-4fb9-e765-cb2a4c9979e0"
      },
      "outputs": [
        {
          "output_type": "execute_result",
          "data": {
            "text/plain": [
              "<matplotlib.axes._subplots.AxesSubplot at 0x7f5223eab1c0>"
            ]
          },
          "metadata": {},
          "execution_count": 100
        },
        {
          "output_type": "display_data",
          "data": {
            "text/plain": [
              "<Figure size 432x288 with 1 Axes>"
            ],
            "image/png": "[encoded data removed]"
          },
          "metadata": {
            "needs_background": "light"
          }
        }
      ],
      "source": [
        "sns.scatterplot(x=\"Rating\",y=\"Revenue (Millions)\",data=data)"
      ]
    },
    {
      "cell_type": "code",
      "execution_count": null,
      "metadata": {
        "colab": {
          "base_uri": "https://localhost:8080/",
          "height": 296
        },
        "id": "FUpUAD0ilhFF",
        "outputId": "57264325-eb39-4826-f52a-fc5ec6d9ceb2"
      },
      "outputs": [
        {
          "output_type": "execute_result",
          "data": {
            "text/plain": [
              "<matplotlib.axes._subplots.AxesSubplot at 0x7f5223e89040>"
            ]
          },
          "metadata": {},
          "execution_count": 101
        },
        {
          "output_type": "display_data",
          "data": {
            "text/plain": [
              "<Figure size 432x288 with 1 Axes>"
            ],
            "image/png": "[encoded data removed]"
          },
          "metadata": {
            "needs_background": "light"
          }
        }
      ],
      "source": [
        "sns.scatterplot(x=\"Rank\",y=\"Revenue (Millions)\",data=data)"
      ]
    },
    {
      "cell_type": "code",
      "execution_count": null,
      "metadata": {
        "colab": {
          "base_uri": "https://localhost:8080/",
          "height": 296
        },
        "id": "5ZprD4Q5mRNR",
        "outputId": "38552a83-c18a-4db4-aa75-34c4011017ae"
      },
      "outputs": [
        {
          "output_type": "execute_result",
          "data": {
            "text/plain": [
              "<matplotlib.axes._subplots.AxesSubplot at 0x7f5223e608e0>"
            ]
          },
          "metadata": {},
          "execution_count": 102
        },
        {
          "output_type": "display_data",
          "data": {
            "text/plain": [
              "<Figure size 432x288 with 1 Axes>"
            ],
            "image/png": "[encoded data removed]"
          },
          "metadata": {
            "needs_background": "light"
          }
        }
      ],
      "source": [
        "sns.scatterplot(x=\"Genre\",y=\"Revenue (Millions)\",data=data)"
      ]
    },
    {
      "cell_type": "code",
      "execution_count": null,
      "metadata": {
        "colab": {
          "base_uri": "https://localhost:8080/",
          "height": 296
        },
        "id": "JmAoAJEQmare",
        "outputId": "19849ece-df34-4208-ca76-677f408d579a"
      },
      "outputs": [
        {
          "output_type": "execute_result",
          "data": {
            "text/plain": [
              "<matplotlib.axes._subplots.AxesSubplot at 0x7f5223c58280>"
            ]
          },
          "metadata": {},
          "execution_count": 103
        },
        {
          "output_type": "display_data",
          "data": {
            "text/plain": [
              "<Figure size 432x288 with 1 Axes>"
            ],
            "image/png": "[encoded data removed]"
          },
          "metadata": {
            "needs_background": "light"
          }
        }
      ],
      "source": [
        "sns.scatterplot(x=\"Year\",y=\"Revenue (Millions)\",data=data)"
      ]
    },
    {
      "cell_type": "code",
      "execution_count": null,
      "metadata": {
        "colab": {
          "base_uri": "https://localhost:8080/",
          "height": 296
        },
        "id": "7uK7yi9Lmc03",
        "outputId": "3f5d96bf-60ef-40cf-8638-cc937aa90506"
      },
      "outputs": [
        {
          "output_type": "execute_result",
          "data": {
            "text/plain": [
              "<matplotlib.axes._subplots.AxesSubplot at 0x7f5223c94a90>"
            ]
          },
          "metadata": {},
          "execution_count": 104
        },
        {
          "output_type": "display_data",
          "data": {
            "text/plain": [
              "<Figure size 432x288 with 1 Axes>"
            ],
            "image/png": "[encoded data removed]"
          },
          "metadata": {
            "needs_background": "light"
          }
        }
      ],
      "source": [
        "sns.scatterplot(x=\"Runtime (Minutes)\",y=\"Revenue (Millions)\",data=data)"
      ]
    },
    {
      "cell_type": "code",
      "execution_count": null,
      "metadata": {
        "colab": {
          "base_uri": "https://localhost:8080/",
          "height": 296
        },
        "id": "nM9_RWHVmh6F",
        "outputId": "9ea5235b-bea6-443a-eec9-cddbe670d1d2"
      },
      "outputs": [
        {
          "output_type": "execute_result",
          "data": {
            "text/plain": [
              "<matplotlib.axes._subplots.AxesSubplot at 0x7f5223f0c310>"
            ]
          },
          "metadata": {},
          "execution_count": 105
        },
        {
          "output_type": "display_data",
          "data": {
            "text/plain": [
              "<Figure size 432x288 with 1 Axes>"
            ],
            "image/png": "[encoded data removed]"
          },
          "metadata": {
            "needs_background": "light"
          }
        }
      ],
      "source": [
        "sns.scatterplot(x=\"Votes\",y=\"Revenue (Millions)\",data=data)"
      ]
    },
    {
      "cell_type": "code",
      "execution_count": null,
      "metadata": {
        "colab": {
          "base_uri": "https://localhost:8080/",
          "height": 296
        },
        "id": "bnJ3rtNPmkMB",
        "outputId": "72972ead-c9bb-406c-98b4-413e20f98d81"
      },
      "outputs": [
        {
          "output_type": "execute_result",
          "data": {
            "text/plain": [
              "<matplotlib.axes._subplots.AxesSubplot at 0x7f522402b4c0>"
            ]
          },
          "metadata": {},
          "execution_count": 106
        },
        {
          "output_type": "display_data",
          "data": {
            "text/plain": [
              "<Figure size 432x288 with 1 Axes>"
            ],
            "image/png": "[encoded data removed]"
          },
          "metadata": {
            "needs_background": "light"
          }
        }
      ],
      "source": [
        "sns.scatterplot(x=\"Revenue (Millions)\",y=\"Revenue (Millions)\",data=data)"
      ]
    },
    {
      "cell_type": "code",
      "execution_count": null,
      "metadata": {
        "colab": {
          "base_uri": "https://localhost:8080/",
          "height": 296
        },
        "id": "CPhz1TYYmo7e",
        "outputId": "a2ef40c7-5dc9-43d1-a415-8152a4de7647"
      },
      "outputs": [
        {
          "output_type": "execute_result",
          "data": {
            "text/plain": [
              "<matplotlib.axes._subplots.AxesSubplot at 0x7f522591ad30>"
            ]
          },
          "metadata": {},
          "execution_count": 107
        },
        {
          "output_type": "display_data",
          "data": {
            "text/plain": [
              "<Figure size 432x288 with 1 Axes>"
            ],
            "image/png": "[encoded data removed]"
          },
          "metadata": {
            "needs_background": "light"
          }
        }
      ],
      "source": [
        "sns.scatterplot(x=\"Metascore\",y=\"Revenue (Millions)\",data=data)"
      ]
    },
    {
      "cell_type": "code",
      "source": [
        "dup_data=data.duplicated().any()"
      ],
      "metadata": {
        "id": "2LX1yPn1dHda"
      },
      "execution_count": null,
      "outputs": []
    },
    {
      "cell_type": "code",
      "source": [
        "print(\"Are there any duplicate values?\",dup_data)"
      ],
      "metadata": {
        "colab": {
          "base_uri": "https://localhost:8080/"
        },
        "id": "BHAqNKuYdjJf",
        "outputId": "667e3f2d-a796-47ee-bf9f-0775c87add68"
      },
      "execution_count": null,
      "outputs": [
        {
          "output_type": "stream",
          "name": "stdout",
          "text": [
            "Are there any duplicate values? False\n"
          ]
        }
      ]
    },
    {
      "cell_type": "code",
      "source": [
        "data=data.drop_duplicates()\n",
        "data"
      ],
      "metadata": {
        "colab": {
          "base_uri": "https://localhost:8080/",
          "height": 424
        },
        "id": "aD_LWSF_d2DC",
        "outputId": "fb12e4d4-12dc-4c58-de47-3d0da1935038"
      },
      "execution_count": null,
      "outputs": [
        {
          "output_type": "execute_result",
          "data": {
            "text/plain": [
              "     Rank                     Genre  Year  Runtime (Minutes)  Rating   Votes  \\\n",
              "0       1   Action,Adventure,Sci-Fi  2014                121     8.1  757074   \n",
              "1       2  Adventure,Mystery,Sci-Fi  2012                124     7.0  485820   \n",
              "2       3           Horror,Thriller  2016                117     7.3  157606   \n",
              "3       4   Animation,Comedy,Family  2016                108     7.2   60545   \n",
              "4       5  Action,Adventure,Fantasy  2016                123     6.2  393727   \n",
              "..    ...                       ...   ...                ...     ...     ...   \n",
              "995   996       Crime,Drama,Mystery  2015                111     6.2   27585   \n",
              "996   997                    Horror  2007                 94     5.5   73152   \n",
              "997   998       Drama,Music,Romance  2008                 98     6.2   70699   \n",
              "998   999          Adventure,Comedy  2014                 93     5.6    4881   \n",
              "999  1000     Comedy,Family,Fantasy  2016                 87     5.3   12435   \n",
              "\n",
              "     Revenue (Millions)  Metascore                     Title  \n",
              "0                333.13       76.0  The Shawshank Redemption  \n",
              "1                126.46       65.0             The Godfather  \n",
              "2                138.12       62.0           The Dark Knight  \n",
              "3                270.32       59.0    The Godfather: Part II  \n",
              "4                325.02       40.0              12 Angry Men  \n",
              "..                  ...        ...                       ...  \n",
              "995                 NaN       45.0    Breakfast at Tiffany's  \n",
              "996               17.54       46.0                     Giant  \n",
              "997               58.01       50.0     From Here to Eternity  \n",
              "998                 NaN       22.0                  Lifeboat  \n",
              "999               19.64       11.0              The 39 Steps  \n",
              "\n",
              "[1000 rows x 9 columns]"
            ],
            "text/html": [
              "\n",
              "  <div id=\"df-283a78d6-ea62-4eaf-8eb1-b29b703e9034\">\n",
              "    <div class=\"colab-df-container\">\n",
              "      <div>\n",
              "<style scoped>\n",
              "    .dataframe tbody tr th:only-of-type {\n",
              "        vertical-align: middle;\n",
              "    }\n",
              "\n",
              "    .dataframe tbody tr th {\n",
              "        vertical-align: top;\n",
              "    }\n",
              "\n",
              "    .dataframe thead th {\n",
              "        text-align: right;\n",
              "    }\n",
              "</style>\n",
              "<table border=\"1\" class=\"dataframe\">\n",
              "  <thead>\n",
              "    <tr style=\"text-align: right;\">\n",
              "      <th></th>\n",
              "      <th>Rank</th>\n",
              "      <th>Genre</th>\n",
              "      <th>Year</th>\n",
              "      <th>Runtime (Minutes)</th>\n",
              "      <th>Rating</th>\n",
              "      <th>Votes</th>\n",
              "      <th>Revenue (Millions)</th>\n",
              "      <th>Metascore</th>\n",
              "      <th>Title</th>\n",
              "    </tr>\n",
              "  </thead>\n",
              "  <tbody>\n",
              "    <tr>\n",
              "      <th>0</th>\n",
              "      <td>1</td>\n",
              "      <td>Action,Adventure,Sci-Fi</td>\n",
              "      <td>2014</td>\n",
              "      <td>121</td>\n",
              "      <td>8.1</td>\n",
              "      <td>757074</td>\n",
              "      <td>333.13</td>\n",
              "      <td>76.0</td>\n",
              "      <td>The Shawshank Redemption</td>\n",
              "    </tr>\n",
              "    <tr>\n",
              "      <th>1</th>\n",
              "      <td>2</td>\n",
              "      <td>Adventure,Mystery,Sci-Fi</td>\n",
              "      <td>2012</td>\n",
              "      <td>124</td>\n",
              "      <td>7.0</td>\n",
              "      <td>485820</td>\n",
              "      <td>126.46</td>\n",
              "      <td>65.0</td>\n",
              "      <td>The Godfather</td>\n",
              "    </tr>\n",
              "    <tr>\n",
              "      <th>2</th>\n",
              "      <td>3</td>\n",
              "      <td>Horror,Thriller</td>\n",
              "      <td>2016</td>\n",
              "      <td>117</td>\n",
              "      <td>7.3</td>\n",
              "      <td>157606</td>\n",
              "      <td>138.12</td>\n",
              "      <td>62.0</td>\n",
              "      <td>The Dark Knight</td>\n",
              "    </tr>\n",
              "    <tr>\n",
              "      <th>3</th>\n",
              "      <td>4</td>\n",
              "      <td>Animation,Comedy,Family</td>\n",
              "      <td>2016</td>\n",
              "      <td>108</td>\n",
              "      <td>7.2</td>\n",
              "      <td>60545</td>\n",
              "      <td>270.32</td>\n",
              "      <td>59.0</td>\n",
              "      <td>The Godfather: Part II</td>\n",
              "    </tr>\n",
              "    <tr>\n",
              "      <th>4</th>\n",
              "      <td>5</td>\n",
              "      <td>Action,Adventure,Fantasy</td>\n",
              "      <td>2016</td>\n",
              "      <td>123</td>\n",
              "      <td>6.2</td>\n",
              "      <td>393727</td>\n",
              "      <td>325.02</td>\n",
              "      <td>40.0</td>\n",
              "      <td>12 Angry Men</td>\n",
              "    </tr>\n",
              "    <tr>\n",
              "      <th>...</th>\n",
              "      <td>...</td>\n",
              "      <td>...</td>\n",
              "      <td>...</td>\n",
              "      <td>...</td>\n",
              "      <td>...</td>\n",
              "      <td>...</td>\n",
              "      <td>...</td>\n",
              "      <td>...</td>\n",
              "      <td>...</td>\n",
              "    </tr>\n",
              "    <tr>\n",
              "      <th>995</th>\n",
              "      <td>996</td>\n",
              "      <td>Crime,Drama,Mystery</td>\n",
              "      <td>2015</td>\n",
              "      <td>111</td>\n",
              "      <td>6.2</td>\n",
              "      <td>27585</td>\n",
              "      <td>NaN</td>\n",
              "      <td>45.0</td>\n",
              "      <td>Breakfast at Tiffany's</td>\n",
              "    </tr>\n",
              "    <tr>\n",
              "      <th>996</th>\n",
              "      <td>997</td>\n",
              "      <td>Horror</td>\n",
              "      <td>2007</td>\n",
              "      <td>94</td>\n",
              "      <td>5.5</td>\n",
              "      <td>73152</td>\n",
              "      <td>17.54</td>\n",
              "      <td>46.0</td>\n",
              "      <td>Giant</td>\n",
              "    </tr>\n",
              "    <tr>\n",
              "      <th>997</th>\n",
              "      <td>998</td>\n",
              "      <td>Drama,Music,Romance</td>\n",
              "      <td>2008</td>\n",
              "      <td>98</td>\n",
              "      <td>6.2</td>\n",
              "      <td>70699</td>\n",
              "      <td>58.01</td>\n",
              "      <td>50.0</td>\n",
              "      <td>From Here to Eternity</td>\n",
              "    </tr>\n",
              "    <tr>\n",
              "      <th>998</th>\n",
              "      <td>999</td>\n",
              "      <td>Adventure,Comedy</td>\n",
              "      <td>2014</td>\n",
              "      <td>93</td>\n",
              "      <td>5.6</td>\n",
              "      <td>4881</td>\n",
              "      <td>NaN</td>\n",
              "      <td>22.0</td>\n",
              "      <td>Lifeboat</td>\n",
              "    </tr>\n",
              "    <tr>\n",
              "      <th>999</th>\n",
              "      <td>1000</td>\n",
              "      <td>Comedy,Family,Fantasy</td>\n",
              "      <td>2016</td>\n",
              "      <td>87</td>\n",
              "      <td>5.3</td>\n",
              "      <td>12435</td>\n",
              "      <td>19.64</td>\n",
              "      <td>11.0</td>\n",
              "      <td>The 39 Steps</td>\n",
              "    </tr>\n",
              "  </tbody>\n",
              "</table>\n",
              "<p>1000 rows × 9 columns</p>\n",
              "</div>\n",
              "      <button class=\"colab-df-convert\" onclick=\"convertToInteractive('df-283a78d6-ea62-4eaf-8eb1-b29b703e9034')\"\n",
              "              title=\"Convert this dataframe to an interactive table.\"\n",
              "              style=\"display:none;\">\n",
              "        \n",
              "  <svg xmlns=\"http://www.w3.org/2000/svg\" height=\"24px\"viewBox=\"0 0 24 24\"\n",
              "       width=\"24px\">\n",
              "    <path d=\"M0 0h24v24H0V0z\" fill=\"none\"/>\n",
              "    <path d=\"M18.56 5.44l.94 2.06.94-2.06 2.06-.94-2.06-.94-.94-2.06-.94 2.06-2.06.94zm-11 1L8.5 8.5l.94-2.06 2.06-.94-2.06-.94L8.5 2.5l-.94 2.06-2.06.94zm10 10l.94 2.06.94-2.06 2.06-.94-2.06-.94-.94-2.06-.94 2.06-2.06.94z\"/><path d=\"M17.41 7.96l-1.37-1.37c-.4-.4-.92-.59-1.43-.59-.52 0-1.04.2-1.43.59L10.3 9.45l-7.72 7.72c-.78.78-.78 2.05 0 2.83L4 21.41c.39.39.9.59 1.41.59.51 0 1.02-.2 1.41-.59l7.78-7.78 2.81-2.81c.8-.78.8-2.07 0-2.86zM5.41 20L4 18.59l7.72-7.72 1.47 1.35L5.41 20z\"/>\n",
              "  </svg>\n",
              "      </button>\n",
              "      \n",
              "  <style>\n",
              "    .colab-df-container {\n",
              "      display:flex;\n",
              "      flex-wrap:wrap;\n",
              "      gap: 12px;\n",
              "    }\n",
              "\n",
              "    .colab-df-convert {\n",
              "      background-color: #E8F0FE;\n",
              "      border: none;\n",
              "      border-radius: 50%;\n",
              "      cursor: pointer;\n",
              "      display: none;\n",
              "      fill: #1967D2;\n",
              "      height: 32px;\n",
              "      padding: 0 0 0 0;\n",
              "      width: 32px;\n",
              "    }\n",
              "\n",
              "    .colab-df-convert:hover {\n",
              "      background-color: #E2EBFA;\n",
              "      box-shadow: 0px 1px 2px rgba(60, 64, 67, 0.3), 0px 1px 3px 1px rgba(60, 64, 67, 0.15);\n",
              "      fill: #174EA6;\n",
              "    }\n",
              "\n",
              "    [theme=dark] .colab-df-convert {\n",
              "      background-color: #3B4455;\n",
              "      fill: #D2E3FC;\n",
              "    }\n",
              "\n",
              "    [theme=dark] .colab-df-convert:hover {\n",
              "      background-color: #434B5C;\n",
              "      box-shadow: 0px 1px 3px 1px rgba(0, 0, 0, 0.15);\n",
              "      filter: drop-shadow(0px 1px 2px rgba(0, 0, 0, 0.3));\n",
              "      fill: #FFFFFF;\n",
              "    }\n",
              "  </style>\n",
              "\n",
              "      <script>\n",
              "        const buttonEl =\n",
              "          document.querySelector('#df-283a78d6-ea62-4eaf-8eb1-b29b703e9034 button.colab-df-convert');\n",
              "        buttonEl.style.display =\n",
              "          google.colab.kernel.accessAllowed ? 'block' : 'none';\n",
              "\n",
              "        async function convertToInteractive(key) {\n",
              "          const element = document.querySelector('#df-283a78d6-ea62-4eaf-8eb1-b29b703e9034');\n",
              "          const dataTable =\n",
              "            await google.colab.kernel.invokeFunction('convertToInteractive',\n",
              "                                                     [key], {});\n",
              "          if (!dataTable) return;\n",
              "\n",
              "          const docLinkHtml = 'Like what you see? Visit the ' +\n",
              "            '<a target=\"_blank\" href=https://colab.research.google.com/notebooks/data_table.ipynb>data table notebook</a>'\n",
              "            + ' to learn more about interactive tables.';\n",
              "          element.innerHTML = '';\n",
              "          dataTable['output_type'] = 'display_data';\n",
              "          await google.colab.output.renderOutput(dataTable, element);\n",
              "          const docLink = document.createElement('div');\n",
              "          docLink.innerHTML = docLinkHtml;\n",
              "          element.appendChild(docLink);\n",
              "        }\n",
              "      </script>\n",
              "    </div>\n",
              "  </div>\n",
              "  "
            ]
          },
          "metadata": {},
          "execution_count": 110
        }
      ]
    },
    {
      "cell_type": "markdown",
      "source": [
        "MOVIES PER YEAR"
      ],
      "metadata": {
        "id": "rjZ-XDZEh71X"
      }
    },
    {
      "cell_type": "code",
      "source": [
        "sns.countplot(x='Year',data=data)\n",
        "plt.title(\"Number of movies per Year\")\n",
        "plt.show()"
      ],
      "metadata": {
        "colab": {
          "base_uri": "https://localhost:8080/",
          "height": 295
        },
        "id": "PNzeP1GbgRK7",
        "outputId": "fc57f4a5-c6c7-4bdc-8fba-b3880f346be2"
      },
      "execution_count": null,
      "outputs": [
        {
          "output_type": "display_data",
          "data": {
            "text/plain": [
              "<Figure size 432x288 with 1 Axes>"
            ],
            "image/png": "[encoded data removed]"
          },
          "metadata": {
            "needs_background": "light"
          }
        }
      ]
    },
    {
      "cell_type": "markdown",
      "source": [
        "Average rating of movies year wise"
      ],
      "metadata": {
        "id": "2edMN-yKlSEI"
      }
    },
    {
      "cell_type": "code",
      "source": [
        "data.groupby('Year')['Rating'].mean().sort_values(ascending=False)"
      ],
      "metadata": {
        "colab": {
          "base_uri": "https://localhost:8080/"
        },
        "id": "l5jQruEelXKY",
        "outputId": "243f8c54-886b-444d-cf28-cb33328201be"
      },
      "execution_count": null,
      "outputs": [
        {
          "output_type": "execute_result",
          "data": {
            "text/plain": [
              "Year\n",
              "2007    7.133962\n",
              "2006    7.125000\n",
              "2009    6.960784\n",
              "2012    6.925000\n",
              "2011    6.838095\n",
              "2014    6.837755\n",
              "2010    6.826667\n",
              "2013    6.812088\n",
              "2008    6.784615\n",
              "2015    6.602362\n",
              "2016    6.436700\n",
              "Name: Rating, dtype: float64"
            ]
          },
          "metadata": {},
          "execution_count": 112
        }
      ]
    },
    {
      "cell_type": "markdown",
      "source": [
        "Classify Movies based on Ratings[Excellent,Good and Average]"
      ],
      "metadata": {
        "id": "NScJqRq5pV8B"
      }
    },
    {
      "cell_type": "code",
      "source": [
        "def rating(rating):\n",
        "  if rating>=7.0:\n",
        "    return \"Excellent\"\n",
        "  elif rating>=6.0:\n",
        "    return \"Good\"\n",
        "  else:\n",
        "    return \"Average\""
      ],
      "metadata": {
        "id": "1UkYX4mYpeMT"
      },
      "execution_count": null,
      "outputs": []
    },
    {
      "cell_type": "code",
      "source": [
        "data['rating_cat']=data['Rating'].apply(rating)"
      ],
      "metadata": {
        "id": "WZHiOz1xp2sy"
      },
      "execution_count": null,
      "outputs": []
    },
    {
      "cell_type": "code",
      "source": [
        "data.head()"
      ],
      "metadata": {
        "colab": {
          "base_uri": "https://localhost:8080/",
          "height": 206
        },
        "id": "3S_vDuYkqEiu",
        "outputId": "fa13feed-9fc8-4110-c618-b3066d0e20a2"
      },
      "execution_count": null,
      "outputs": [
        {
          "output_type": "execute_result",
          "data": {
            "text/plain": [
              "   Rank                     Genre  Year  Runtime (Minutes)  Rating   Votes  \\\n",
              "0     1   Action,Adventure,Sci-Fi  2014                121     8.1  757074   \n",
              "1     2  Adventure,Mystery,Sci-Fi  2012                124     7.0  485820   \n",
              "2     3           Horror,Thriller  2016                117     7.3  157606   \n",
              "3     4   Animation,Comedy,Family  2016                108     7.2   60545   \n",
              "4     5  Action,Adventure,Fantasy  2016                123     6.2  393727   \n",
              "\n",
              "   Revenue (Millions)  Metascore                     Title rating_cat  \n",
              "0              333.13       76.0  The Shawshank Redemption  Excellent  \n",
              "1              126.46       65.0             The Godfather  Excellent  \n",
              "2              138.12       62.0           The Dark Knight  Excellent  \n",
              "3              270.32       59.0    The Godfather: Part II  Excellent  \n",
              "4              325.02       40.0              12 Angry Men       Good  "
            ],
            "text/html": [
              "\n",
              "  <div id=\"df-9c43d1a4-2c56-4c54-895e-c2fb760797fb\">\n",
              "    <div class=\"colab-df-container\">\n",
              "      <div>\n",
              "<style scoped>\n",
              "    .dataframe tbody tr th:only-of-type {\n",
              "        vertical-align: middle;\n",
              "    }\n",
              "\n",
              "    .dataframe tbody tr th {\n",
              "        vertical-align: top;\n",
              "    }\n",
              "\n",
              "    .dataframe thead th {\n",
              "        text-align: right;\n",
              "    }\n",
              "</style>\n",
              "<table border=\"1\" class=\"dataframe\">\n",
              "  <thead>\n",
              "    <tr style=\"text-align: right;\">\n",
              "      <th></th>\n",
              "      <th>Rank</th>\n",
              "      <th>Genre</th>\n",
              "      <th>Year</th>\n",
              "      <th>Runtime (Minutes)</th>\n",
              "      <th>Rating</th>\n",
              "      <th>Votes</th>\n",
              "      <th>Revenue (Millions)</th>\n",
              "      <th>Metascore</th>\n",
              "      <th>Title</th>\n",
              "      <th>rating_cat</th>\n",
              "    </tr>\n",
              "  </thead>\n",
              "  <tbody>\n",
              "    <tr>\n",
              "      <th>0</th>\n",
              "      <td>1</td>\n",
              "      <td>Action,Adventure,Sci-Fi</td>\n",
              "      <td>2014</td>\n",
              "      <td>121</td>\n",
              "      <td>8.1</td>\n",
              "      <td>757074</td>\n",
              "      <td>333.13</td>\n",
              "      <td>76.0</td>\n",
              "      <td>The Shawshank Redemption</td>\n",
              "      <td>Excellent</td>\n",
              "    </tr>\n",
              "    <tr>\n",
              "      <th>1</th>\n",
              "      <td>2</td>\n",
              "      <td>Adventure,Mystery,Sci-Fi</td>\n",
              "      <td>2012</td>\n",
              "      <td>124</td>\n",
              "      <td>7.0</td>\n",
              "      <td>485820</td>\n",
              "      <td>126.46</td>\n",
              "      <td>65.0</td>\n",
              "      <td>The Godfather</td>\n",
              "      <td>Excellent</td>\n",
              "    </tr>\n",
              "    <tr>\n",
              "      <th>2</th>\n",
              "      <td>3</td>\n",
              "      <td>Horror,Thriller</td>\n",
              "      <td>2016</td>\n",
              "      <td>117</td>\n",
              "      <td>7.3</td>\n",
              "      <td>157606</td>\n",
              "      <td>138.12</td>\n",
              "      <td>62.0</td>\n",
              "      <td>The Dark Knight</td>\n",
              "      <td>Excellent</td>\n",
              "    </tr>\n",
              "    <tr>\n",
              "      <th>3</th>\n",
              "      <td>4</td>\n",
              "      <td>Animation,Comedy,Family</td>\n",
              "      <td>2016</td>\n",
              "      <td>108</td>\n",
              "      <td>7.2</td>\n",
              "      <td>60545</td>\n",
              "      <td>270.32</td>\n",
              "      <td>59.0</td>\n",
              "      <td>The Godfather: Part II</td>\n",
              "      <td>Excellent</td>\n",
              "    </tr>\n",
              "    <tr>\n",
              "      <th>4</th>\n",
              "      <td>5</td>\n",
              "      <td>Action,Adventure,Fantasy</td>\n",
              "      <td>2016</td>\n",
              "      <td>123</td>\n",
              "      <td>6.2</td>\n",
              "      <td>393727</td>\n",
              "      <td>325.02</td>\n",
              "      <td>40.0</td>\n",
              "      <td>12 Angry Men</td>\n",
              "      <td>Good</td>\n",
              "    </tr>\n",
              "  </tbody>\n",
              "</table>\n",
              "</div>\n",
              "      <button class=\"colab-df-convert\" onclick=\"convertToInteractive('df-9c43d1a4-2c56-4c54-895e-c2fb760797fb')\"\n",
              "              title=\"Convert this dataframe to an interactive table.\"\n",
              "              style=\"display:none;\">\n",
              "        \n",
              "  <svg xmlns=\"http://www.w3.org/2000/svg\" height=\"24px\"viewBox=\"0 0 24 24\"\n",
              "       width=\"24px\">\n",
              "    <path d=\"M0 0h24v24H0V0z\" fill=\"none\"/>\n",
              "    <path d=\"M18.56 5.44l.94 2.06.94-2.06 2.06-.94-2.06-.94-.94-2.06-.94 2.06-2.06.94zm-11 1L8.5 8.5l.94-2.06 2.06-.94-2.06-.94L8.5 2.5l-.94 2.06-2.06.94zm10 10l.94 2.06.94-2.06 2.06-.94-2.06-.94-.94-2.06-.94 2.06-2.06.94z\"/><path d=\"M17.41 7.96l-1.37-1.37c-.4-.4-.92-.59-1.43-.59-.52 0-1.04.2-1.43.59L10.3 9.45l-7.72 7.72c-.78.78-.78 2.05 0 2.83L4 21.41c.39.39.9.59 1.41.59.51 0 1.02-.2 1.41-.59l7.78-7.78 2.81-2.81c.8-.78.8-2.07 0-2.86zM5.41 20L4 18.59l7.72-7.72 1.47 1.35L5.41 20z\"/>\n",
              "  </svg>\n",
              "      </button>\n",
              "      \n",
              "  <style>\n",
              "    .colab-df-container {\n",
              "      display:flex;\n",
              "      flex-wrap:wrap;\n",
              "      gap: 12px;\n",
              "    }\n",
              "\n",
              "    .colab-df-convert {\n",
              "      background-color: #E8F0FE;\n",
              "      border: none;\n",
              "      border-radius: 50%;\n",
              "      cursor: pointer;\n",
              "      display: none;\n",
              "      fill: #1967D2;\n",
              "      height: 32px;\n",
              "      padding: 0 0 0 0;\n",
              "      width: 32px;\n",
              "    }\n",
              "\n",
              "    .colab-df-convert:hover {\n",
              "      background-color: #E2EBFA;\n",
              "      box-shadow: 0px 1px 2px rgba(60, 64, 67, 0.3), 0px 1px 3px 1px rgba(60, 64, 67, 0.15);\n",
              "      fill: #174EA6;\n",
              "    }\n",
              "\n",
              "    [theme=dark] .colab-df-convert {\n",
              "      background-color: #3B4455;\n",
              "      fill: #D2E3FC;\n",
              "    }\n",
              "\n",
              "    [theme=dark] .colab-df-convert:hover {\n",
              "      background-color: #434B5C;\n",
              "      box-shadow: 0px 1px 3px 1px rgba(0, 0, 0, 0.15);\n",
              "      filter: drop-shadow(0px 1px 2px rgba(0, 0, 0, 0.3));\n",
              "      fill: #FFFFFF;\n",
              "    }\n",
              "  </style>\n",
              "\n",
              "      <script>\n",
              "        const buttonEl =\n",
              "          document.querySelector('#df-9c43d1a4-2c56-4c54-895e-c2fb760797fb button.colab-df-convert');\n",
              "        buttonEl.style.display =\n",
              "          google.colab.kernel.accessAllowed ? 'block' : 'none';\n",
              "\n",
              "        async function convertToInteractive(key) {\n",
              "          const element = document.querySelector('#df-9c43d1a4-2c56-4c54-895e-c2fb760797fb');\n",
              "          const dataTable =\n",
              "            await google.colab.kernel.invokeFunction('convertToInteractive',\n",
              "                                                     [key], {});\n",
              "          if (!dataTable) return;\n",
              "\n",
              "          const docLinkHtml = 'Like what you see? Visit the ' +\n",
              "            '<a target=\"_blank\" href=https://colab.research.google.com/notebooks/data_table.ipynb>data table notebook</a>'\n",
              "            + ' to learn more about interactive tables.';\n",
              "          element.innerHTML = '';\n",
              "          dataTable['output_type'] = 'display_data';\n",
              "          await google.colab.output.renderOutput(dataTable, element);\n",
              "          const docLink = document.createElement('div');\n",
              "          docLink.innerHTML = docLinkHtml;\n",
              "          element.appendChild(docLink);\n",
              "        }\n",
              "      </script>\n",
              "    </div>\n",
              "  </div>\n",
              "  "
            ]
          },
          "metadata": {},
          "execution_count": 115
        }
      ]
    },
    {
      "cell_type": "code",
      "source": [
        "data['Genre'].dtype"
      ],
      "metadata": {
        "colab": {
          "base_uri": "https://localhost:8080/"
        },
        "id": "hPo7C7sbvzWy",
        "outputId": "342da9f5-48cf-415a-c3be-e1b63fdace2c"
      },
      "execution_count": null,
      "outputs": [
        {
          "output_type": "execute_result",
          "data": {
            "text/plain": [
              "dtype('O')"
            ]
          },
          "metadata": {},
          "execution_count": 116
        }
      ]
    },
    {
      "cell_type": "code",
      "source": [
        "len(data[data['Genre'].str.contains('Comedy',case=False)])"
      ],
      "metadata": {
        "colab": {
          "base_uri": "https://localhost:8080/"
        },
        "id": "fbpOImcVv78G",
        "outputId": "b254592b-16ca-451b-8d6a-121cc0568a48"
      },
      "execution_count": null,
      "outputs": [
        {
          "output_type": "execute_result",
          "data": {
            "text/plain": [
              "279"
            ]
          },
          "metadata": {},
          "execution_count": 117
        }
      ]
    },
    {
      "cell_type": "markdown",
      "source": [
        "Find values from genre"
      ],
      "metadata": {
        "id": "UkoGf-UDy4pf"
      }
    },
    {
      "cell_type": "code",
      "source": [
        "data.columns"
      ],
      "metadata": {
        "colab": {
          "base_uri": "https://localhost:8080/"
        },
        "id": "rGPP1lsuy7nO",
        "outputId": "6773441e-05e2-4f7c-93a8-11eb84c1daa2"
      },
      "execution_count": null,
      "outputs": [
        {
          "output_type": "execute_result",
          "data": {
            "text/plain": [
              "Index(['Rank', 'Genre', 'Year', 'Runtime (Minutes)', 'Rating', 'Votes',\n",
              "       'Revenue (Millions)', 'Metascore', 'Title', 'rating_cat'],\n",
              "      dtype='object')"
            ]
          },
          "metadata": {},
          "execution_count": 118
        }
      ]
    },
    {
      "cell_type": "code",
      "source": [
        "data['Genre']"
      ],
      "metadata": {
        "colab": {
          "base_uri": "https://localhost:8080/"
        },
        "id": "d6flzJWWy_Fn",
        "outputId": "6f15cd71-2073-4a12-c2a2-8527a2afa759"
      },
      "execution_count": null,
      "outputs": [
        {
          "output_type": "execute_result",
          "data": {
            "text/plain": [
              "0       Action,Adventure,Sci-Fi\n",
              "1      Adventure,Mystery,Sci-Fi\n",
              "2               Horror,Thriller\n",
              "3       Animation,Comedy,Family\n",
              "4      Action,Adventure,Fantasy\n",
              "                 ...           \n",
              "995         Crime,Drama,Mystery\n",
              "996                      Horror\n",
              "997         Drama,Music,Romance\n",
              "998            Adventure,Comedy\n",
              "999       Comedy,Family,Fantasy\n",
              "Name: Genre, Length: 1000, dtype: object"
            ]
          },
          "metadata": {},
          "execution_count": 119
        }
      ]
    },
    {
      "cell_type": "code",
      "source": [
        "list1=[]\n",
        "for value in data['Genre']:\n",
        "  list1.append(value.split(','))"
      ],
      "metadata": {
        "id": "P_r89-rkzDjs"
      },
      "execution_count": null,
      "outputs": []
    },
    {
      "cell_type": "code",
      "source": [
        "list1"
      ],
      "metadata": {
        "id": "1RELaMH_zK0M",
        "colab": {
          "base_uri": "https://localhost:8080/"
        },
        "outputId": "93f08057-e37c-47a2-e1ec-bc61f3ceac04"
      },
      "execution_count": null,
      "outputs": [
        {
          "output_type": "execute_result",
          "data": {
            "text/plain": [
              "[['Action', 'Adventure', 'Sci-Fi'],\n",
              " ['Adventure', 'Mystery', 'Sci-Fi'],\n",
              " ['Horror', 'Thriller'],\n",
              " ['Animation', 'Comedy', 'Family'],\n",
              " ['Action', 'Adventure', 'Fantasy'],\n",
              " ['Action', 'Adventure', 'Fantasy'],\n",
              " ['Comedy', 'Drama', 'Music'],\n",
              " ['Comedy'],\n",
              " ['Action', 'Adventure', 'Biography'],\n",
              " ['Adventure', 'Drama', 'Romance'],\n",
              " ['Adventure', 'Family', 'Fantasy'],\n",
              " ['Biography', 'Drama', 'History'],\n",
              " ['Action', 'Adventure', 'Sci-Fi'],\n",
              " ['Animation', 'Adventure', 'Comedy'],\n",
              " ['Action', 'Comedy', 'Drama'],\n",
              " ['Animation', 'Adventure', 'Comedy'],\n",
              " ['Biography', 'Drama', 'History'],\n",
              " ['Action', 'Thriller'],\n",
              " ['Biography', 'Drama'],\n",
              " ['Drama', 'Mystery', 'Sci-Fi'],\n",
              " ['Adventure', 'Drama', 'Thriller'],\n",
              " ['Drama'],\n",
              " ['Crime', 'Drama', 'Horror'],\n",
              " ['Animation', 'Adventure', 'Comedy'],\n",
              " ['Action', 'Adventure', 'Sci-Fi'],\n",
              " ['Comedy'],\n",
              " ['Action', 'Adventure', 'Drama'],\n",
              " ['Horror', 'Thriller'],\n",
              " ['Comedy'],\n",
              " ['Action', 'Adventure', 'Drama'],\n",
              " ['Comedy'],\n",
              " ['Drama', 'Thriller'],\n",
              " ['Action', 'Adventure', 'Sci-Fi'],\n",
              " ['Action', 'Adventure', 'Comedy'],\n",
              " ['Action', 'Horror', 'Sci-Fi'],\n",
              " ['Action', 'Adventure', 'Sci-Fi'],\n",
              " ['Adventure', 'Drama', 'Sci-Fi'],\n",
              " ['Action', 'Adventure', 'Fantasy'],\n",
              " ['Action', 'Adventure', 'Western'],\n",
              " ['Comedy', 'Drama'],\n",
              " ['Animation', 'Adventure', 'Comedy'],\n",
              " ['Drama'],\n",
              " ['Horror'],\n",
              " ['Biography', 'Drama', 'History'],\n",
              " ['Drama'],\n",
              " ['Action', 'Adventure', 'Fantasy'],\n",
              " ['Drama', 'Thriller'],\n",
              " ['Adventure', 'Drama', 'Fantasy'],\n",
              " ['Action', 'Adventure', 'Sci-Fi'],\n",
              " ['Drama'],\n",
              " ['Action', 'Adventure', 'Fantasy'],\n",
              " ['Action', 'Adventure', 'Fantasy'],\n",
              " ['Comedy', 'Drama'],\n",
              " ['Action', 'Crime', 'Thriller'],\n",
              " ['Action', 'Crime', 'Drama'],\n",
              " ['Adventure', 'Drama', 'History'],\n",
              " ['Crime', 'Horror', 'Thriller'],\n",
              " ['Drama', 'Romance'],\n",
              " ['Comedy', 'Drama', 'Romance'],\n",
              " ['Biography', 'Drama'],\n",
              " ['Action', 'Adventure', 'Sci-Fi'],\n",
              " ['Horror', 'Mystery', 'Thriller'],\n",
              " ['Crime', 'Drama', 'Mystery'],\n",
              " ['Drama', 'Romance', 'Thriller'],\n",
              " ['Drama', 'Mystery', 'Sci-Fi'],\n",
              " ['Action', 'Adventure', 'Comedy'],\n",
              " ['Drama', 'History', 'Thriller'],\n",
              " ['Action', 'Adventure', 'Sci-Fi'],\n",
              " ['Drama'],\n",
              " ['Action', 'Drama', 'Thriller'],\n",
              " ['Drama', 'History'],\n",
              " ['Action', 'Drama', 'Romance'],\n",
              " ['Drama', 'Fantasy'],\n",
              " ['Drama', 'Romance'],\n",
              " ['Animation', 'Adventure', 'Comedy'],\n",
              " ['Action', 'Adventure', 'Fantasy'],\n",
              " ['Action', 'Sci-Fi'],\n",
              " ['Adventure', 'Drama', 'War'],\n",
              " ['Action', 'Adventure', 'Fantasy'],\n",
              " ['Action', 'Comedy', 'Fantasy'],\n",
              " ['Action', 'Adventure', 'Sci-Fi'],\n",
              " ['Comedy', 'Drama'],\n",
              " ['Biography', 'Comedy', 'Crime'],\n",
              " ['Crime', 'Drama', 'Mystery'],\n",
              " ['Action', 'Crime', 'Thriller'],\n",
              " ['Action', 'Adventure', 'Sci-Fi'],\n",
              " ['Crime', 'Drama'],\n",
              " ['Action', 'Adventure', 'Fantasy'],\n",
              " ['Crime', 'Drama', 'Mystery'],\n",
              " ['Action', 'Crime', 'Drama'],\n",
              " ['Crime', 'Drama', 'Mystery'],\n",
              " ['Action', 'Adventure', 'Fantasy'],\n",
              " ['Drama'],\n",
              " ['Comedy', 'Crime', 'Drama'],\n",
              " ['Action', 'Adventure', 'Sci-Fi'],\n",
              " ['Action', 'Comedy', 'Crime'],\n",
              " ['Animation', 'Drama', 'Fantasy'],\n",
              " ['Horror', 'Mystery', 'Sci-Fi'],\n",
              " ['Drama', 'Mystery', 'Thriller'],\n",
              " ['Crime', 'Drama', 'Thriller'],\n",
              " ['Biography', 'Crime', 'Drama'],\n",
              " ['Action', 'Adventure', 'Fantasy'],\n",
              " ['Adventure', 'Drama', 'Sci-Fi'],\n",
              " ['Crime', 'Mystery', 'Thriller'],\n",
              " ['Action', 'Adventure', 'Comedy'],\n",
              " ['Crime', 'Drama', 'Thriller'],\n",
              " ['Comedy'],\n",
              " ['Action', 'Adventure', 'Drama'],\n",
              " ['Drama'],\n",
              " ['Drama', 'Mystery', 'Sci-Fi'],\n",
              " ['Action', 'Horror', 'Thriller'],\n",
              " ['Biography', 'Drama', 'History'],\n",
              " ['Romance', 'Sci-Fi'],\n",
              " ['Action', 'Fantasy', 'War'],\n",
              " ['Adventure', 'Drama', 'Fantasy'],\n",
              " ['Comedy'],\n",
              " ['Horror', 'Thriller'],\n",
              " ['Action', 'Biography', 'Drama'],\n",
              " ['Drama', 'Horror', 'Mystery'],\n",
              " ['Animation', 'Adventure', 'Comedy'],\n",
              " ['Adventure', 'Drama', 'Family'],\n",
              " ['Adventure', 'Mystery', 'Sci-Fi'],\n",
              " ['Adventure', 'Comedy', 'Romance'],\n",
              " ['Action'],\n",
              " ['Action', 'Thriller'],\n",
              " ['Adventure', 'Drama', 'Family'],\n",
              " ['Action', 'Adventure', 'Sci-Fi'],\n",
              " ['Adventure', 'Crime', 'Mystery'],\n",
              " ['Comedy', 'Family', 'Musical'],\n",
              " ['Adventure', 'Drama', 'Thriller'],\n",
              " ['Drama'],\n",
              " ['Adventure', 'Comedy', 'Drama'],\n",
              " ['Drama', 'Horror', 'Thriller'],\n",
              " ['Drama', 'Music'],\n",
              " ['Action', 'Crime', 'Thriller'],\n",
              " ['Crime', 'Drama', 'Thriller'],\n",
              " ['Crime', 'Drama', 'Thriller'],\n",
              " ['Drama', 'Romance'],\n",
              " ['Mystery', 'Thriller'],\n",
              " ['Mystery', 'Thriller', 'Western'],\n",
              " ['Action', 'Adventure', 'Sci-Fi'],\n",
              " ['Comedy', 'Family'],\n",
              " ['Biography', 'Comedy', 'Drama'],\n",
              " ['Drama'],\n",
              " ['Drama', 'Western'],\n",
              " ['Drama', 'Mystery', 'Romance'],\n",
              " ['Comedy', 'Drama'],\n",
              " ['Action', 'Drama', 'Mystery'],\n",
              " ['Comedy'],\n",
              " ['Action', 'Adventure', 'Crime'],\n",
              " ['Adventure', 'Family', 'Fantasy'],\n",
              " ['Adventure', 'Sci-Fi', 'Thriller'],\n",
              " ['Drama'],\n",
              " ['Action', 'Crime', 'Drama'],\n",
              " ['Drama', 'Horror', 'Mystery'],\n",
              " ['Action', 'Horror', 'Sci-Fi'],\n",
              " ['Action', 'Adventure', 'Sci-Fi'],\n",
              " ['Comedy', 'Drama', 'Romance'],\n",
              " ['Action', 'Comedy', 'Fantasy'],\n",
              " ['Action', 'Comedy', 'Mystery'],\n",
              " ['Thriller', 'War'],\n",
              " ['Action', 'Comedy', 'Crime'],\n",
              " ['Action', 'Adventure', 'Sci-Fi'],\n",
              " ['Action', 'Adventure', 'Crime'],\n",
              " ['Action', 'Adventure', 'Thriller'],\n",
              " ['Drama', 'Fantasy', 'Romance'],\n",
              " ['Action', 'Adventure', 'Comedy'],\n",
              " ['Biography', 'Drama', 'History'],\n",
              " ['Action', 'Drama', 'History'],\n",
              " ['Action', 'Adventure', 'Thriller'],\n",
              " ['Crime', 'Drama', 'Thriller'],\n",
              " ['Animation', 'Adventure', 'Family'],\n",
              " ['Adventure', 'Horror'],\n",
              " ['Drama', 'Romance', 'Sci-Fi'],\n",
              " ['Animation', 'Adventure', 'Comedy'],\n",
              " ['Action', 'Adventure', 'Family'],\n",
              " ['Action', 'Adventure', 'Drama'],\n",
              " ['Action', 'Comedy'],\n",
              " ['Horror', 'Mystery', 'Thriller'],\n",
              " ['Action', 'Adventure', 'Comedy'],\n",
              " ['Comedy', 'Romance'],\n",
              " ['Horror', 'Mystery'],\n",
              " ['Drama', 'Family', 'Fantasy'],\n",
              " ['Sci-Fi'],\n",
              " ['Drama', 'Thriller'],\n",
              " ['Drama', 'Romance'],\n",
              " ['Drama', 'War'],\n",
              " ['Drama', 'Fantasy', 'Horror'],\n",
              " ['Crime', 'Drama'],\n",
              " ['Comedy', 'Drama', 'Romance'],\n",
              " ['Drama', 'Romance'],\n",
              " ['Drama'],\n",
              " ['Crime', 'Drama', 'History'],\n",
              " ['Horror', 'Sci-Fi', 'Thriller'],\n",
              " ['Action', 'Drama', 'Sport'],\n",
              " ['Action', 'Adventure', 'Sci-Fi'],\n",
              " ['Crime', 'Drama', 'Thriller'],\n",
              " ['Adventure', 'Biography', 'Drama'],\n",
              " ['Biography', 'Drama', 'Thriller'],\n",
              " ['Action', 'Comedy', 'Crime'],\n",
              " ['Action', 'Adventure', 'Sci-Fi'],\n",
              " ['Drama', 'Fantasy', 'Horror'],\n",
              " ['Biography', 'Drama', 'Thriller'],\n",
              " ['Action', 'Adventure', 'Sci-Fi'],\n",
              " ['Action', 'Adventure', 'Mystery'],\n",
              " ['Action', 'Adventure', 'Sci-Fi'],\n",
              " ['Drama', 'Horror'],\n",
              " ['Comedy', 'Drama', 'Romance'],\n",
              " ['Comedy', 'Romance'],\n",
              " ['Drama', 'Horror', 'Thriller'],\n",
              " ['Action', 'Adventure', 'Drama'],\n",
              " ['Drama'],\n",
              " ['Action', 'Adventure', 'Sci-Fi'],\n",
              " ['Action', 'Drama', 'Mystery'],\n",
              " ['Action', 'Adventure', 'Fantasy'],\n",
              " ['Action', 'Adventure', 'Fantasy'],\n",
              " ['Action', 'Adventure', 'Sci-Fi'],\n",
              " ['Action', 'Adventure', 'Comedy'],\n",
              " ['Drama', 'Horror'],\n",
              " ['Action', 'Comedy'],\n",
              " ['Action', 'Adventure', 'Sci-Fi'],\n",
              " ['Animation', 'Adventure', 'Comedy'],\n",
              " ['Horror', 'Mystery'],\n",
              " ['Crime', 'Drama', 'Mystery'],\n",
              " ['Comedy', 'Crime'],\n",
              " ['Drama'],\n",
              " ['Comedy', 'Drama', 'Romance'],\n",
              " ['Action', 'Adventure', 'Sci-Fi'],\n",
              " ['Action', 'Adventure', 'Family'],\n",
              " ['Horror', 'Sci-Fi', 'Thriller'],\n",
              " ['Drama', 'Fantasy', 'War'],\n",
              " ['Crime', 'Drama', 'Thriller'],\n",
              " ['Action', 'Adventure', 'Drama'],\n",
              " ['Action', 'Adventure', 'Thriller'],\n",
              " ['Action', 'Adventure', 'Drama'],\n",
              " ['Drama', 'Romance'],\n",
              " ['Biography', 'Drama', 'History'],\n",
              " ['Drama', 'Horror', 'Thriller'],\n",
              " ['Adventure', 'Comedy', 'Drama'],\n",
              " ['Action', 'Adventure', 'Romance'],\n",
              " ['Action', 'Drama', 'War'],\n",
              " ['Animation', 'Adventure', 'Comedy'],\n",
              " ['Animation', 'Adventure', 'Comedy'],\n",
              " ['Action', 'Adventure', 'Sci-Fi'],\n",
              " ['Adventure', 'Family', 'Fantasy'],\n",
              " ['Drama', 'Musical', 'Romance'],\n",
              " ['Drama', 'Sci-Fi', 'Thriller'],\n",
              " ['Comedy', 'Drama'],\n",
              " ['Action', 'Comedy', 'Crime'],\n",
              " ['Biography', 'Comedy', 'Drama'],\n",
              " ['Comedy', 'Drama', 'Romance'],\n",
              " ['Drama', 'Thriller'],\n",
              " ['Biography', 'Drama', 'History'],\n",
              " ['Action', 'Adventure', 'Sci-Fi'],\n",
              " ['Horror', 'Mystery', 'Thriller'],\n",
              " ['Comedy'],\n",
              " ['Action', 'Adventure', 'Sci-Fi'],\n",
              " ['Action', 'Drama', 'Sci-Fi'],\n",
              " ['Horror'],\n",
              " ['Drama', 'Thriller'],\n",
              " ['Comedy', 'Drama', 'Romance'],\n",
              " ['Drama', 'Thriller'],\n",
              " ['Comedy', 'Drama'],\n",
              " ['Drama'],\n",
              " ['Action', 'Adventure', 'Comedy'],\n",
              " ['Drama', 'Horror', 'Thriller'],\n",
              " ['Comedy'],\n",
              " ['Drama', 'Sci-Fi'],\n",
              " ['Action', 'Adventure', 'Sci-Fi'],\n",
              " ['Horror'],\n",
              " ['Action', 'Adventure', 'Thriller'],\n",
              " ['Adventure', 'Fantasy'],\n",
              " ['Action', 'Comedy', 'Crime'],\n",
              " ['Comedy', 'Drama', 'Music'],\n",
              " ['Animation', 'Adventure', 'Comedy'],\n",
              " ['Action', 'Adventure', 'Mystery'],\n",
              " ['Action', 'Comedy', 'Crime'],\n",
              " ['Crime', 'Drama', 'History'],\n",
              " ['Comedy'],\n",
              " ['Action', 'Adventure', 'Sci-Fi'],\n",
              " ['Crime', 'Mystery', 'Thriller'],\n",
              " ['Action', 'Adventure', 'Crime'],\n",
              " ['Thriller'],\n",
              " ['Biography', 'Drama', 'Romance'],\n",
              " ['Action', 'Adventure'],\n",
              " ['Action', 'Fantasy'],\n",
              " ['Action', 'Comedy'],\n",
              " ['Action', 'Adventure', 'Sci-Fi'],\n",
              " ['Action', 'Comedy', 'Crime'],\n",
              " ['Thriller'],\n",
              " ['Action', 'Drama', 'Horror'],\n",
              " ['Comedy', 'Music', 'Romance'],\n",
              " ['Comedy'],\n",
              " ['Drama'],\n",
              " ['Action', 'Adventure', 'Fantasy'],\n",
              " ['Drama', 'Romance'],\n",
              " ['Animation', 'Adventure', 'Comedy'],\n",
              " ['Comedy', 'Drama'],\n",
              " ['Biography', 'Crime', 'Drama'],\n",
              " ['Drama', 'History'],\n",
              " ['Action', 'Crime', 'Thriller'],\n",
              " ['Action', 'Biography', 'Drama'],\n",
              " ['Horror'],\n",
              " ['Comedy', 'Romance'],\n",
              " ['Comedy', 'Romance'],\n",
              " ['Comedy', 'Crime', 'Drama'],\n",
              " ['Adventure', 'Family', 'Fantasy'],\n",
              " ['Crime', 'Drama', 'Thriller'],\n",
              " ['Action', 'Crime', 'Thriller'],\n",
              " ['Comedy', 'Romance'],\n",
              " ['Biography', 'Drama', 'Sport'],\n",
              " ['Drama', 'Romance'],\n",
              " ['Drama', 'Horror'],\n",
              " ['Adventure', 'Fantasy'],\n",
              " ['Adventure', 'Family', 'Fantasy'],\n",
              " ['Action', 'Drama', 'Sci-Fi'],\n",
              " ['Action', 'Adventure', 'Sci-Fi'],\n",
              " ['Action', 'Horror'],\n",
              " ['Comedy', 'Horror', 'Thriller'],\n",
              " ['Action', 'Crime', 'Thriller'],\n",
              " ['Crime', 'Drama', 'Music'],\n",
              " ['Drama'],\n",
              " ['Action', 'Crime', 'Thriller'],\n",
              " ['Action', 'Sci-Fi', 'Thriller'],\n",
              " ['Biography', 'Drama'],\n",
              " ['Action', 'Adventure', 'Fantasy'],\n",
              " ['Drama', 'Horror', 'Sci-Fi'],\n",
              " ['Biography', 'Comedy', 'Drama'],\n",
              " ['Crime', 'Horror', 'Thriller'],\n",
              " ['Crime', 'Drama', 'Mystery'],\n",
              " ['Animation', 'Adventure', 'Comedy'],\n",
              " ['Action', 'Biography', 'Drama'],\n",
              " ['Biography', 'Drama'],\n",
              " ['Biography', 'Drama', 'History'],\n",
              " ['Action', 'Biography', 'Drama'],\n",
              " ['Drama', 'Fantasy', 'Horror'],\n",
              " ['Comedy', 'Drama', 'Romance'],\n",
              " ['Drama', 'Sport'],\n",
              " ['Drama', 'Romance'],\n",
              " ['Comedy', 'Romance'],\n",
              " ['Action', 'Crime', 'Thriller'],\n",
              " ['Action', 'Crime', 'Drama'],\n",
              " ['Action', 'Drama', 'Thriller'],\n",
              " ['Adventure', 'Family', 'Fantasy'],\n",
              " ['Action', 'Adventure'],\n",
              " ['Action', 'Adventure', 'Romance'],\n",
              " ['Adventure', 'Family', 'Fantasy'],\n",
              " ['Crime', 'Drama'],\n",
              " ['Comedy', 'Horror'],\n",
              " ['Comedy', 'Fantasy', 'Romance'],\n",
              " ['Drama'],\n",
              " ['Drama'],\n",
              " ['Comedy', 'Drama'],\n",
              " ['Comedy', 'Drama', 'Romance'],\n",
              " ['Adventure', 'Sci-Fi', 'Thriller'],\n",
              " ['Action', 'Adventure', 'Fantasy'],\n",
              " ['Comedy', 'Drama'],\n",
              " ['Biography', 'Drama', 'Romance'],\n",
              " ['Comedy', 'Fantasy'],\n",
              " ['Comedy', 'Drama', 'Fantasy'],\n",
              " ['Comedy'],\n",
              " ['Horror', 'Thriller'],\n",
              " ['Action', 'Adventure', 'Sci-Fi'],\n",
              " ['Adventure', 'Comedy', 'Horror'],\n",
              " ['Comedy', 'Mystery'],\n",
              " ['Drama'],\n",
              " ['Adventure', 'Drama', 'Fantasy'],\n",
              " ['Drama', 'Sport'],\n",
              " ['Action', 'Adventure'],\n",
              " ['Action', 'Adventure', 'Drama'],\n",
              " ['Action', 'Drama', 'Sci-Fi'],\n",
              " ['Action', 'Mystery', 'Sci-Fi'],\n",
              " ['Action', 'Crime', 'Drama'],\n",
              " ['Action', 'Crime', 'Fantasy'],\n",
              " ['Biography', 'Comedy', 'Drama'],\n",
              " ['Action', 'Crime', 'Thriller'],\n",
              " ['Biography', 'Crime', 'Drama'],\n",
              " ['Drama', 'Sport'],\n",
              " ['Adventure', 'Comedy', 'Drama'],\n",
              " ['Action', 'Adventure', 'Thriller'],\n",
              " ['Comedy', 'Fantasy', 'Horror'],\n",
              " ['Drama', 'Sport'],\n",
              " ['Horror', 'Thriller'],\n",
              " ['Drama', 'History', 'Thriller'],\n",
              " ['Animation', 'Action', 'Adventure'],\n",
              " ['Action', 'Adventure', 'Drama'],\n",
              " ['Action', 'Comedy', 'Family'],\n",
              " ['Action', 'Adventure', 'Drama'],\n",
              " ['Action', 'Adventure', 'Sci-Fi'],\n",
              " ['Action', 'Adventure', 'Sci-Fi'],\n",
              " ['Action', 'Comedy'],\n",
              " ['Action', 'Crime', 'Drama'],\n",
              " ['Biography', 'Drama'],\n",
              " ['Comedy', 'Romance'],\n",
              " ['Comedy'],\n",
              " ['Drama', 'Fantasy', 'Romance'],\n",
              " ['Action', 'Adventure', 'Sci-Fi'],\n",
              " ['Comedy'],\n",
              " ['Comedy', 'Sci-Fi'],\n",
              " ['Comedy', 'Drama'],\n",
              " ['Animation', 'Action', 'Adventure'],\n",
              " ['Horror'],\n",
              " ['Action', 'Biography', 'Crime'],\n",
              " ['Animation', 'Adventure', 'Comedy'],\n",
              " ['Drama', 'Romance'],\n",
              " ['Drama', 'Mystery', 'Thriller'],\n",
              " ['Drama', 'History', 'Thriller'],\n",
              " ['Animation', 'Adventure', 'Comedy'],\n",
              " ['Action', 'Adventure', 'Sci-Fi'],\n",
              " ['Adventure', 'Comedy'],\n",
              " ['Action', 'Thriller'],\n",
              " ['Comedy', 'Music'],\n",
              " ['Animation', 'Adventure', 'Comedy'],\n",
              " ['Crime', 'Drama', 'Thriller'],\n",
              " ['Action', 'Adventure', 'Crime'],\n",
              " ['Comedy', 'Drama', 'Horror'],\n",
              " ['Drama'],\n",
              " ['Drama', 'Mystery', 'Romance'],\n",
              " ['Adventure', 'Family', 'Fantasy'],\n",
              " ['Drama'],\n",
              " ['Action', 'Drama', 'Thriller'],\n",
              " ['Drama'],\n",
              " ['Action', 'Horror', 'Romance'],\n",
              " ['Action', 'Drama', 'Fantasy'],\n",
              " ['Action', 'Crime', 'Drama'],\n",
              " ['Drama', 'Fantasy', 'Romance'],\n",
              " ['Action', 'Crime', 'Thriller'],\n",
              " ['Action', 'Mystery', 'Thriller'],\n",
              " ['Horror', 'Mystery', 'Thriller'],\n",
              " ['Action', 'Horror', 'Sci-Fi'],\n",
              " ['Comedy', 'Drama'],\n",
              " ['Comedy'],\n",
              " ['Action', 'Adventure', 'Horror'],\n",
              " ['Action', 'Adventure', 'Thriller'],\n",
              " ['Action', 'Crime', 'Drama'],\n",
              " ['Comedy', 'Crime', 'Drama'],\n",
              " ['Drama', 'Romance'],\n",
              " ['Drama', 'Thriller'],\n",
              " ['Action', 'Comedy', 'Crime'],\n",
              " ['Comedy'],\n",
              " ['Adventure', 'Family', 'Fantasy'],\n",
              " ['Drama', 'Romance'],\n",
              " ['Animation', 'Family', 'Fantasy'],\n",
              " ['Drama', 'Romance'],\n",
              " ['Thriller'],\n",
              " ['Adventure', 'Horror', 'Mystery'],\n",
              " ['Action', 'Sci-Fi'],\n",
              " ['Adventure', 'Comedy', 'Drama'],\n",
              " ['Animation', 'Action', 'Adventure'],\n",
              " ['Drama', 'Horror'],\n",
              " ['Action', 'Adventure', 'Sci-Fi'],\n",
              " ['Comedy', 'Drama'],\n",
              " ['Action', 'Horror', 'Mystery'],\n",
              " ['Action', 'Thriller'],\n",
              " ['Action', 'Adventure', 'Sci-Fi'],\n",
              " ['Drama'],\n",
              " ['Comedy', 'Drama', 'Romance'],\n",
              " ['Comedy', 'Crime'],\n",
              " ['Comedy', 'Romance'],\n",
              " ['Drama', 'Romance'],\n",
              " ['Crime', 'Drama', 'Thriller'],\n",
              " ['Horror', 'Mystery', 'Thriller'],\n",
              " ['Biography', 'Drama'],\n",
              " ['Drama', 'Mystery', 'Sci-Fi'],\n",
              " ['Adventure', 'Comedy', 'Family'],\n",
              " ['Action', 'Adventure', 'Crime'],\n",
              " ['Action', 'Crime', 'Mystery'],\n",
              " ['Mystery', 'Thriller'],\n",
              " ['Action', 'Sci-Fi', 'Thriller'],\n",
              " ['Action', 'Comedy', 'Crime'],\n",
              " ['Biography', 'Crime', 'Drama'],\n",
              " ['Biography', 'Drama', 'History'],\n",
              " ['Action', 'Adventure', 'Sci-Fi'],\n",
              " ['Adventure', 'Family', 'Fantasy'],\n",
              " ['Biography', 'Drama', 'History'],\n",
              " ['Biography', 'Comedy', 'Drama'],\n",
              " ['Drama', 'Thriller'],\n",
              " ['Horror', 'Thriller'],\n",
              " ['Drama'],\n",
              " ['Drama', 'War'],\n",
              " ['Comedy', 'Drama', 'Romance'],\n",
              " ['Drama', 'Romance', 'Sci-Fi'],\n",
              " ['Action', 'Crime', 'Drama'],\n",
              " ['Comedy', 'Drama'],\n",
              " ['Animation', 'Action', 'Adventure'],\n",
              " ['Adventure', 'Comedy', 'Drama'],\n",
              " ['Comedy', 'Drama', 'Family'],\n",
              " ['Drama', 'Romance', 'Thriller'],\n",
              " ['Comedy', 'Crime', 'Drama'],\n",
              " ['Animation', 'Comedy', 'Family'],\n",
              " ['Drama', 'Horror', 'Sci-Fi'],\n",
              " ['Action', 'Adventure', 'Drama'],\n",
              " ['Action', 'Horror', 'Sci-Fi'],\n",
              " ['Action', 'Crime', 'Sport'],\n",
              " ['Drama', 'Horror', 'Sci-Fi'],\n",
              " ['Drama', 'Horror', 'Sci-Fi'],\n",
              " ['Action', 'Adventure', 'Comedy'],\n",
              " ['Mystery', 'Sci-Fi', 'Thriller'],\n",
              " ['Crime', 'Drama', 'Thriller'],\n",
              " ['Animation', 'Adventure', 'Comedy'],\n",
              " ['Action', 'Sci-Fi', 'Thriller'],\n",
              " ['Drama', 'Romance'],\n",
              " ['Crime', 'Drama', 'Thriller'],\n",
              " ['Comedy', 'Drama', 'Music'],\n",
              " ['Drama', 'Fantasy', 'Romance'],\n",
              " ['Crime', 'Drama', 'Thriller'],\n",
              " ['Crime', 'Drama', 'Thriller'],\n",
              " ['Comedy', 'Drama', 'Romance'],\n",
              " ['Comedy', 'Romance'],\n",
              " ['Drama', 'Sci-Fi', 'Thriller'],\n",
              " ['Drama', 'War'],\n",
              " ['Action', 'Crime', 'Drama'],\n",
              " ['Sci-Fi', 'Thriller'],\n",
              " ['Adventure', 'Drama', 'Horror'],\n",
              " ['Comedy', 'Drama', 'Music'],\n",
              " ['Comedy', 'Drama', 'Romance'],\n",
              " ['Action', 'Adventure', 'Drama'],\n",
              " ['Action', 'Crime', 'Drama'],\n",
              " ['Adventure', 'Fantasy'],\n",
              " ['Drama', 'Romance'],\n",
              " ['Biography', 'History', 'Thriller'],\n",
              " ['Crime', 'Drama', 'Thriller'],\n",
              " ['Action', 'Drama', 'History'],\n",
              " ['Biography', 'Comedy', 'Drama'],\n",
              " ['Crime', 'Drama', 'Thriller'],\n",
              " ['Action', 'Biography', 'Drama'],\n",
              " ['Action', 'Drama', 'Sci-Fi'],\n",
              " ['Adventure', 'Horror'],\n",
              " ['Action', 'Adventure', 'Sci-Fi'],\n",
              " ['Action', 'Adventure', 'Mystery'],\n",
              " ['Comedy', 'Drama', 'Romance'],\n",
              " ['Horror', 'Thriller'],\n",
              " ['Action', 'Sci-Fi', 'Thriller'],\n",
              " ['Action', 'Sci-Fi', 'Thriller'],\n",
              " ['Biography', 'Drama'],\n",
              " ['Action', 'Crime', 'Drama'],\n",
              " ['Action', 'Crime', 'Mystery'],\n",
              " ['Action', 'Adventure', 'Comedy'],\n",
              " ['Crime', 'Drama', 'Thriller'],\n",
              " ['Crime', 'Drama'],\n",
              " ['Mystery', 'Thriller'],\n",
              " ['Mystery', 'Sci-Fi', 'Thriller'],\n",
              " ['Action', 'Mystery', 'Sci-Fi'],\n",
              " ['Drama', 'Romance'],\n",
              " ['Drama', 'Thriller'],\n",
              " ['Drama', 'Mystery', 'Sci-Fi'],\n",
              " ['Comedy', 'Drama'],\n",
              " ['Adventure', 'Family', 'Fantasy'],\n",
              " ['Biography', 'Drama', 'Sport'],\n",
              " ['Drama'],\n",
              " ['Comedy', 'Drama', 'Romance'],\n",
              " ['Biography', 'Drama', 'Romance'],\n",
              " ['Action', 'Adventure', 'Sci-Fi'],\n",
              " ['Drama', 'Sci-Fi', 'Thriller'],\n",
              " ['Drama', 'Romance', 'Thriller'],\n",
              " ['Mystery', 'Thriller'],\n",
              " ['Mystery', 'Thriller'],\n",
              " ['Action', 'Drama', 'Fantasy'],\n",
              " ['Action', 'Adventure', 'Biography'],\n",
              " ['Adventure', 'Comedy', 'Sci-Fi'],\n",
              " ['Action', 'Adventure', 'Thriller'],\n",
              " ['Fantasy', 'Horror'],\n",
              " ['Horror', 'Mystery'],\n",
              " ['Animation', 'Adventure', 'Comedy'],\n",
              " ['Action', 'Adventure', 'Drama'],\n",
              " ['Adventure', 'Family', 'Fantasy'],\n",
              " ['Action', 'Adventure', 'Sci-Fi'],\n",
              " ['Comedy', 'Drama'],\n",
              " ['Comedy', 'Drama'],\n",
              " ['Crime', 'Drama', 'Thriller'],\n",
              " ['Comedy', 'Romance'],\n",
              " ['Animation', 'Comedy', 'Family'],\n",
              " ['Comedy', 'Drama'],\n",
              " ['Comedy', 'Drama'],\n",
              " ['Biography', 'Drama', 'Sport'],\n",
              " ['Action', 'Adventure', 'Fantasy'],\n",
              " ['Action', 'Drama', 'History'],\n",
              " ['Action', 'Adventure', 'Sci-Fi'],\n",
              " ['Action', 'Adventure', 'Mystery'],\n",
              " ['Crime', 'Drama', 'Mystery'],\n",
              " ['Action'],\n",
              " ['Action', 'Adventure', 'Family'],\n",
              " ['Comedy', 'Romance'],\n",
              " ['Comedy', 'Drama', 'Romance'],\n",
              " ['Biography', 'Drama', 'Sport'],\n",
              " ['Action', 'Fantasy', 'Thriller'],\n",
              " ['Biography', 'Drama', 'Sport'],\n",
              " ['Action', 'Drama', 'Fantasy'],\n",
              " ['Adventure', 'Sci-Fi', 'Thriller'],\n",
              " ['Animation', 'Adventure', 'Comedy'],\n",
              " ['Drama', 'Mystery', 'Thriller'],\n",
              " ['Drama', 'Romance'],\n",
              " ['Crime', 'Drama', 'Mystery'],\n",
              " ['Comedy', 'Romance', 'Sport'],\n",
              " ['Comedy', 'Family'],\n",
              " ['Drama', 'Horror', 'Mystery'],\n",
              " ['Action', 'Drama', 'Sport'],\n",
              " ['Action', 'Adventure', 'Comedy'],\n",
              " ['Drama', 'Mystery', 'Sci-Fi'],\n",
              " ['Animation', 'Action', 'Comedy'],\n",
              " ['Action', 'Crime', 'Drama'],\n",
              " ['Action', 'Crime', 'Drama'],\n",
              " ['Comedy', 'Drama', 'Romance'],\n",
              " ['Animation', 'Action', 'Adventure'],\n",
              " ['Crime', 'Drama'],\n",
              " ['Drama'],\n",
              " ['Drama'],\n",
              " ['Comedy', 'Crime'],\n",
              " ['Drama'],\n",
              " ['Action', 'Adventure', 'Fantasy'],\n",
              " ['Drama', 'Fantasy', 'Romance'],\n",
              " ['Comedy', 'Drama'],\n",
              " ['Drama', 'Fantasy', 'Thriller'],\n",
              " ['Biography', 'Crime', 'Drama'],\n",
              " ['Comedy', 'Drama', 'Romance'],\n",
              " ['Action', 'Crime', 'Drama'],\n",
              " ['Sci-Fi'],\n",
              " ['Action', 'Biography', 'Drama'],\n",
              " ['Action', 'Comedy', 'Romance'],\n",
              " ['Adventure', 'Comedy', 'Drama'],\n",
              " ['Comedy', 'Crime', 'Drama'],\n",
              " ['Action', 'Fantasy', 'Horror'],\n",
              " ['Drama', 'Horror'],\n",
              " ['Horror'],\n",
              " ['Action', 'Thriller'],\n",
              " ['Action', 'Adventure', 'Mystery'],\n",
              " ['Action', 'Adventure', 'Fantasy'],\n",
              " ['Comedy', 'Drama', 'Romance'],\n",
              " ['Crime', 'Drama', 'Mystery'],\n",
              " ['Adventure', 'Comedy', 'Family'],\n",
              " ['Comedy', 'Drama', 'Romance'],\n",
              " ['Comedy'],\n",
              " ['Comedy', 'Drama', 'Horror'],\n",
              " ['Drama', 'Horror', 'Thriller'],\n",
              " ['Animation', 'Adventure', 'Family'],\n",
              " ['Comedy', 'Romance'],\n",
              " ['Mystery', 'Romance', 'Sci-Fi'],\n",
              " ['Crime', 'Drama'],\n",
              " ['Drama', 'Horror', 'Mystery'],\n",
              " ['Comedy'],\n",
              " ['Biography', 'Drama'],\n",
              " ['Comedy', 'Drama', 'Thriller'],\n",
              " ['Comedy', 'Western'],\n",
              " ['Drama', 'History', 'War'],\n",
              " ['Drama', 'Horror', 'Sci-Fi'],\n",
              " ['Drama'],\n",
              " ['Comedy', 'Drama'],\n",
              " ['Fantasy', 'Horror', 'Thriller'],\n",
              " ['Drama', 'Romance'],\n",
              " ['Action', 'Comedy', 'Fantasy'],\n",
              " ['Drama', 'Horror', 'Musical'],\n",
              " ['Crime', 'Drama', 'Mystery'],\n",
              " ['Horror', 'Mystery', 'Thriller'],\n",
              " ['Comedy', 'Music'],\n",
              " ['Drama'],\n",
              " ['Biography', 'Crime', 'Drama'],\n",
              " ['Drama'],\n",
              " ['Action', 'Adventure', 'Comedy'],\n",
              " ['Crime', 'Drama', 'Mystery'],\n",
              " ['Drama'],\n",
              " ['Action', 'Comedy', 'Crime'],\n",
              " ['Comedy', 'Drama', 'Romance'],\n",
              " ['Crime', 'Drama', 'Mystery'],\n",
              " ['Action', 'Comedy', 'Crime'],\n",
              " ['Drama'],\n",
              " ['Drama', 'Romance'],\n",
              " ['Crime', 'Drama', 'Mystery'],\n",
              " ['Adventure', 'Comedy', 'Romance'],\n",
              " ['Comedy', 'Crime', 'Drama'],\n",
              " ['Adventure', 'Drama', 'Thriller'],\n",
              " ['Biography', 'Crime', 'Drama'],\n",
              " ['Crime', 'Drama', 'Thriller'],\n",
              " ['Drama', 'History', 'Thriller'],\n",
              " ['Action', 'Adventure', 'Sci-Fi'],\n",
              " ['Action', 'Comedy'],\n",
              " ['Horror'],\n",
              " ['Action', 'Crime', 'Mystery'],\n",
              " ['Comedy', 'Romance'],\n",
              " ['Comedy'],\n",
              " ['Action', 'Drama', 'Thriller'],\n",
              " ['Action', 'Adventure', 'Sci-Fi'],\n",
              " ['Drama', 'Mystery', 'Thriller'],\n",
              " ['Comedy', 'Drama', 'Romance'],\n",
              " ['Action', 'Fantasy', 'Horror'],\n",
              " ['Drama', 'Romance'],\n",
              " ['Biography', 'Drama'],\n",
              " ['Biography', 'Drama'],\n",
              " ['Action', 'Adventure', 'Sci-Fi'],\n",
              " ['Animation', 'Adventure', 'Comedy'],\n",
              " ['Drama', 'Mystery', 'Thriller'],\n",
              " ['Action', 'Horror', 'Sci-Fi'],\n",
              " ['Drama', 'Romance'],\n",
              " ['Biography', 'Drama'],\n",
              " ['Action', 'Adventure', 'Drama'],\n",
              " ['Adventure', 'Drama', 'Fantasy'],\n",
              " ['Drama', 'Family'],\n",
              " ['Comedy', 'Drama', 'Romance'],\n",
              " ['Drama', 'Romance', 'Sci-Fi'],\n",
              " ['Action', 'Adventure', 'Thriller'],\n",
              " ['Comedy', 'Romance'],\n",
              " ['Crime', 'Drama', 'Horror'],\n",
              " ['Comedy', 'Fantasy'],\n",
              " ['Action', 'Comedy', 'Crime'],\n",
              " ['Adventure', 'Drama', 'Romance'],\n",
              " ['Action', 'Crime', 'Drama'],\n",
              " ['Crime', 'Horror', 'Thriller'],\n",
              " ['Romance', 'Sci-Fi', 'Thriller'],\n",
              " ['Comedy', 'Drama', 'Romance'],\n",
              " ['Crime', 'Drama'],\n",
              " ['Crime', 'Drama', 'Mystery'],\n",
              " ['Action', 'Adventure', 'Sci-Fi'],\n",
              " ['Animation', 'Fantasy'],\n",
              " ['Animation', 'Adventure', 'Comedy'],\n",
              " ['Drama', 'Mystery', 'War'],\n",
              " ['Comedy', 'Romance'],\n",
              " ['Animation', 'Comedy', 'Family'],\n",
              " ['Comedy'],\n",
              " ['Horror', 'Mystery', 'Thriller'],\n",
              " ['Action', 'Adventure', 'Drama'],\n",
              " ['Comedy'],\n",
              " ['Drama'],\n",
              " ['Adventure', 'Biography', 'Drama'],\n",
              " ['Comedy'],\n",
              " ['Horror', 'Thriller'],\n",
              " ['Action', 'Drama', 'Family'],\n",
              " ['Comedy', 'Fantasy', 'Horror'],\n",
              " ['Comedy', 'Romance'],\n",
              " ['Drama', 'Mystery', 'Romance'],\n",
              " ['Action', 'Adventure', 'Comedy'],\n",
              " ['Thriller'],\n",
              " ['Comedy'],\n",
              " ['Adventure', 'Comedy', 'Sci-Fi'],\n",
              " ['Comedy', 'Drama', 'Fantasy'],\n",
              " ['Mystery', 'Thriller'],\n",
              " ['Comedy', 'Drama'],\n",
              " ['Adventure', 'Drama', 'Family'],\n",
              " ['Horror', 'Thriller'],\n",
              " ['Action', 'Drama', 'Romance'],\n",
              " ['Drama', 'Romance'],\n",
              " ['Action', 'Adventure', 'Fantasy'],\n",
              " ['Comedy'],\n",
              " ['Action', 'Biography', 'Drama'],\n",
              " ['Drama', 'Mystery', 'Romance'],\n",
              " ['Adventure', 'Drama', 'Western'],\n",
              " ['Drama', 'Music', 'Romance'],\n",
              " ['Comedy', 'Romance', 'Western'],\n",
              " ['Thriller'],\n",
              " ['Comedy', 'Drama', 'Romance'],\n",
              " ['Horror', 'Thriller'],\n",
              " ['Adventure', 'Family', 'Fantasy'],\n",
              " ['Crime', 'Drama', 'Mystery'],\n",
              " ['Horror', 'Mystery'],\n",
              " ['Comedy', 'Crime', 'Drama'],\n",
              " ['Action', 'Comedy', 'Romance'],\n",
              " ['Biography', 'Drama', 'History'],\n",
              " ['Adventure', 'Drama'],\n",
              " ['Drama', 'Thriller'],\n",
              " ['Drama'],\n",
              " ['Action', 'Adventure', 'Fantasy'],\n",
              " ['Action', 'Biography', 'Drama'],\n",
              " ['Drama', 'Music'],\n",
              " ['Comedy', 'Drama'],\n",
              " ['Drama', 'Thriller', 'War'],\n",
              " ['Action', 'Mystery', 'Thriller'],\n",
              " ['Horror', 'Sci-Fi', 'Thriller'],\n",
              " ['Comedy', 'Drama', 'Romance'],\n",
              " ['Action', 'Sci-Fi'],\n",
              " ['Action', 'Adventure', 'Fantasy'],\n",
              " ['Drama', 'Mystery', 'Romance'],\n",
              " ['Drama'],\n",
              " ['Action', 'Adventure', 'Thriller'],\n",
              " ['Action', 'Crime', 'Thriller'],\n",
              " ['Animation', 'Action', 'Adventure'],\n",
              " ['Drama', 'Fantasy', 'Mystery'],\n",
              " ['Drama', 'Sci-Fi'],\n",
              " ['Animation', 'Adventure', 'Comedy'],\n",
              " ['Horror', 'Thriller'],\n",
              " ['Action', 'Thriller'],\n",
              " ['Comedy'],\n",
              " ['Biography', 'Drama'],\n",
              " ['Action', 'Mystery', 'Thriller'],\n",
              " ['Action', 'Mystery', 'Sci-Fi'],\n",
              " ['Crime', 'Drama', 'Thriller'],\n",
              " ['Comedy', 'Romance'],\n",
              " ['Comedy', 'Drama', 'Romance'],\n",
              " ['Biography', 'Drama', 'Thriller'],\n",
              " ['Drama'],\n",
              " ['Action', 'Adventure', 'Family'],\n",
              " ['Animation', 'Comedy', 'Family'],\n",
              " ['Action', 'Crime', 'Drama'],\n",
              " ['Comedy'],\n",
              " ['Comedy', 'Crime', 'Thriller'],\n",
              " ['Comedy', 'Romance'],\n",
              " ['Animation', 'Comedy', 'Drama'],\n",
              " ['Action', 'Crime', 'Thriller'],\n",
              " ['Comedy', 'Romance'],\n",
              " ['Adventure', 'Biography', 'Drama'],\n",
              " ['Animation', 'Adventure', 'Comedy'],\n",
              " ['Crime', 'Drama', 'Mystery'],\n",
              " ['Action', 'Comedy', 'Sci-Fi'],\n",
              " ['Comedy', 'Fantasy', 'Horror'],\n",
              " ['Comedy', 'Crime'],\n",
              " ['Animation', 'Action', 'Adventure'],\n",
              " ['Action', 'Drama', 'Thriller'],\n",
              " ['Fantasy', 'Horror'],\n",
              " ['Crime', 'Drama', 'Thriller'],\n",
              " ['Action', 'Adventure', 'Fantasy'],\n",
              " ['Comedy', 'Drama', 'Romance'],\n",
              " ['Biography', 'Drama', 'Romance'],\n",
              " ['Action', 'Drama', 'History'],\n",
              " ['Action', 'Adventure', 'Comedy'],\n",
              " ['Horror', 'Thriller'],\n",
              " ['Horror', 'Mystery', 'Thriller'],\n",
              " ['Comedy', 'Romance'],\n",
              " ['Animation', 'Adventure', 'Comedy'],\n",
              " ['Crime', 'Drama', 'Mystery'],\n",
              " ['Crime', 'Drama', 'Mystery'],\n",
              " ['Adventure', 'Biography', 'Drama'],\n",
              " ['Horror', 'Mystery', 'Thriller'],\n",
              " ['Horror', 'Thriller'],\n",
              " ['Drama', 'Romance', 'War'],\n",
              " ['Adventure', 'Fantasy', 'Mystery'],\n",
              " ['Action', 'Adventure', 'Sci-Fi'],\n",
              " ['Biography', 'Drama'],\n",
              " ['Drama', 'Thriller'],\n",
              " ['Horror', 'Thriller'],\n",
              " ['Drama', 'Horror', 'Thriller'],\n",
              " ['Action', 'Adventure', 'Fantasy'],\n",
              " ['Action', 'Horror', 'Thriller'],\n",
              " ['Comedy'],\n",
              " ['Drama', 'Sport'],\n",
              " ['Comedy', 'Family'],\n",
              " ['Drama', 'Romance'],\n",
              " ['Action', 'Adventure', 'Comedy'],\n",
              " ['Comedy'],\n",
              " ['Mystery', 'Romance', 'Thriller'],\n",
              " ['Crime', 'Drama'],\n",
              " ['Action', 'Comedy'],\n",
              " ['Crime', 'Drama', 'Mystery'],\n",
              " ['Biography', 'Drama', 'Romance'],\n",
              " ['Comedy', 'Crime'],\n",
              " ['Drama', 'Thriller'],\n",
              " ['Drama'],\n",
              " ['Animation', 'Adventure', 'Comedy'],\n",
              " ['Action', 'Thriller'],\n",
              " ['Drama', 'Thriller'],\n",
              " ['Animation', 'Adventure', 'Comedy'],\n",
              " ['Crime', 'Drama', 'Mystery'],\n",
              " ['Thriller'],\n",
              " ['Biography', 'Drama', 'Sport'],\n",
              " ['Crime', 'Drama', 'Thriller'],\n",
              " ['Drama', 'Music'],\n",
              " ['Crime', 'Drama', 'Thriller'],\n",
              " ['Drama', 'Romance'],\n",
              " ['Animation', 'Action', 'Adventure'],\n",
              " ['Comedy', 'Drama'],\n",
              " ['Action', 'Adventure', 'Drama'],\n",
              " ['Biography', 'Crime', 'Drama'],\n",
              " ['Horror'],\n",
              " ['Biography', 'Drama', 'Mystery'],\n",
              " ['Drama', 'Romance'],\n",
              " ['Animation', 'Drama', 'Romance'],\n",
              " ['Comedy', 'Family'],\n",
              " ['Drama'],\n",
              " ['Mystery', 'Thriller'],\n",
              " ['Drama', 'Fantasy', 'Horror'],\n",
              " ['Drama', 'Romance'],\n",
              " ['Biography', 'Drama', 'History'],\n",
              " ['Comedy', 'Family'],\n",
              " ['Action', 'Adventure', 'Thriller'],\n",
              " ['Comedy', 'Drama'],\n",
              " ['Action', 'Adventure', 'Fantasy'],\n",
              " ['Action', 'Thriller'],\n",
              " ['Drama', 'Romance'],\n",
              " ['Comedy', 'Drama', 'Romance'],\n",
              " ['Drama', 'Horror', 'Sci-Fi'],\n",
              " ['Comedy', 'Horror', 'Romance'],\n",
              " ['Drama'],\n",
              " ['Action', 'Adventure', 'Sci-Fi'],\n",
              " ['Action', 'Adventure', 'Fantasy'],\n",
              " ['Action', 'Adventure', 'Drama'],\n",
              " ['Biography', 'Comedy', 'Drama'],\n",
              " ['Drama', 'Mystery', 'Romance'],\n",
              " ['Animation', 'Adventure', 'Comedy'],\n",
              " ['Drama', 'Romance', 'Sci-Fi'],\n",
              " ['Drama'],\n",
              " ['Drama', 'Fantasy'],\n",
              " ['Drama', 'Romance'],\n",
              " ['Comedy', 'Horror', 'Thriller'],\n",
              " ['Comedy', 'Drama', 'Romance'],\n",
              " ['Crime', 'Drama'],\n",
              " ['Comedy', 'Romance'],\n",
              " ['Action', 'Drama', 'Family'],\n",
              " ['Comedy', 'Drama', 'Romance'],\n",
              " ['Action', 'Thriller', 'War'],\n",
              " ['Action', 'Comedy', 'Horror'],\n",
              " ['Biography', 'Drama', 'Sport'],\n",
              " ['Adventure', 'Comedy', 'Drama'],\n",
              " ['Comedy', 'Romance'],\n",
              " ['Comedy', 'Romance'],\n",
              " ['Comedy', 'Drama', 'Romance'],\n",
              " ['Action', 'Adventure', 'Crime'],\n",
              " ['Comedy', 'Romance'],\n",
              " ['Animation', 'Action', 'Adventure'],\n",
              " ['Action', 'Crime', 'Sci-Fi'],\n",
              " ['Drama'],\n",
              " ['Comedy', 'Drama', 'Romance'],\n",
              " ['Crime', 'Thriller'],\n",
              " ['Comedy', 'Horror', 'Sci-Fi'],\n",
              " ['Drama', 'Thriller'],\n",
              " ['Drama', 'Fantasy', 'Horror'],\n",
              " ['Thriller'],\n",
              " ['Adventure', 'Drama', 'Family'],\n",
              " ['Mystery', 'Sci-Fi', 'Thriller'],\n",
              " ['Biography', 'Crime', 'Drama'],\n",
              " ['Drama', 'Fantasy', 'Horror'],\n",
              " ['Action', 'Adventure', 'Thriller'],\n",
              " ['Crime', 'Drama', 'Horror'],\n",
              " ['Crime', 'Drama', 'Fantasy'],\n",
              " ['Adventure', 'Family', 'Fantasy'],\n",
              " ['Action', 'Adventure', 'Drama'],\n",
              " ['Action', 'Comedy', 'Horror'],\n",
              " ['Comedy', 'Drama', 'Family'],\n",
              " ['Action', 'Thriller'],\n",
              " ['Action', 'Adventure', 'Sci-Fi'],\n",
              " ['Adventure', 'Drama', 'Fantasy'],\n",
              " ['Drama'],\n",
              " ['Drama'],\n",
              " ['Comedy'],\n",
              " ['Drama'],\n",
              " ['Comedy', 'Drama', 'Music'],\n",
              " ['Drama', 'Fantasy', 'Music'],\n",
              " ['Drama'],\n",
              " ['Thriller'],\n",
              " ['Comedy', 'Horror'],\n",
              " ['Action', 'Comedy', 'Sport'],\n",
              " ['Horror'],\n",
              " ['Comedy', 'Drama'],\n",
              " ['Action', 'Drama', 'Thriller'],\n",
              " ['Drama', 'Romance'],\n",
              " ['Horror', 'Mystery'],\n",
              " ['Adventure', 'Drama', 'Fantasy'],\n",
              " ['Thriller'],\n",
              " ['Comedy', 'Romance'],\n",
              " ['Action', 'Sci-Fi', 'Thriller'],\n",
              " ['Fantasy', 'Mystery', 'Thriller'],\n",
              " ['Biography', 'Drama'],\n",
              " ['Crime', 'Drama'],\n",
              " ['Action', 'Adventure', 'Sci-Fi'],\n",
              " ['Adventure'],\n",
              " ['Comedy', 'Drama'],\n",
              " ['Comedy', 'Drama'],\n",
              " ['Comedy', 'Drama', 'Romance'],\n",
              " ['Adventure', 'Comedy', 'Drama'],\n",
              " ['Action', 'Sci-Fi', 'Thriller'],\n",
              " ['Comedy', 'Romance'],\n",
              " ['Action', 'Fantasy', 'Horror'],\n",
              " ['Crime', 'Drama', 'Thriller'],\n",
              " ['Action', 'Drama', 'Thriller'],\n",
              " ['Crime', 'Drama', 'Mystery'],\n",
              " ['Crime', 'Drama', 'Mystery'],\n",
              " ['Drama', 'Sci-Fi', 'Thriller'],\n",
              " ['Biography', 'Drama', 'History'],\n",
              " ['Crime', 'Horror', 'Thriller'],\n",
              " ['Drama'],\n",
              " ['Drama', 'Mystery', 'Thriller'],\n",
              " ['Adventure', 'Biography'],\n",
              " ['Adventure', 'Biography', 'Crime'],\n",
              " ['Action', 'Horror', 'Thriller'],\n",
              " ['Action', 'Adventure', 'Western'],\n",
              " ['Horror', 'Thriller'],\n",
              " ['Drama', 'Mystery', 'Thriller'],\n",
              " ['Comedy', 'Drama', 'Musical'],\n",
              " ['Horror', 'Mystery'],\n",
              " ['Biography', 'Drama', 'Sport'],\n",
              " ['Comedy', 'Family', 'Romance'],\n",
              " ['Drama', 'Mystery', 'Thriller'],\n",
              " ['Comedy'],\n",
              " ['Drama'],\n",
              " ['Drama', 'Thriller'],\n",
              " ['Biography', 'Drama', 'Family'],\n",
              " ['Comedy', 'Drama', 'Family'],\n",
              " ['Drama', 'Fantasy', 'Musical'],\n",
              " ['Comedy'],\n",
              " ['Adventure', 'Family'],\n",
              " ['Adventure', 'Comedy', 'Fantasy'],\n",
              " ['Horror', 'Thriller'],\n",
              " ['Drama', 'Romance'],\n",
              " ['Horror'],\n",
              " ['Biography', 'Drama', 'History'],\n",
              " ['Action', 'Adventure', 'Fantasy'],\n",
              " ['Drama', 'Family', 'Music'],\n",
              " ['Comedy', 'Drama', 'Romance'],\n",
              " ['Action', 'Adventure', 'Horror'],\n",
              " ['Comedy'],\n",
              " ['Crime', 'Drama', 'Mystery'],\n",
              " ['Horror'],\n",
              " ['Drama', 'Music', 'Romance'],\n",
              " ['Adventure', 'Comedy'],\n",
              " ['Comedy', 'Family', 'Fantasy']]"
            ]
          },
          "metadata": {},
          "execution_count": 121
        }
      ]
    },
    {
      "cell_type": "code",
      "source": [
        "one_d=[]\n",
        "for item in list1:\n",
        "  for item1 in item:\n",
        "    one_d.append(item1)"
      ],
      "metadata": {
        "id": "iUGX38fuzkj4"
      },
      "execution_count": null,
      "outputs": []
    },
    {
      "cell_type": "code",
      "source": [
        "one_d"
      ],
      "metadata": {
        "id": "bFWF8iUFzK_d"
      },
      "execution_count": null,
      "outputs": []
    },
    {
      "cell_type": "code",
      "source": [
        "uni_list=[]\n",
        "for item in one_d:\n",
        "  if item not in uni_list:\n",
        "    uni_list.append(item)"
      ],
      "metadata": {
        "id": "Hyp3YnOTz2_b"
      },
      "execution_count": null,
      "outputs": []
    },
    {
      "cell_type": "markdown",
      "source": [
        "How many films of each genre were made"
      ],
      "metadata": {
        "id": "qY0oTSNyxGqF"
      }
    },
    {
      "cell_type": "code",
      "source": [
        "one_d=[]\n",
        "for item in list1:\n",
        "    for item1 in item:\n",
        "        one_d.append(item1)"
      ],
      "metadata": {
        "id": "hWCidmOYxMsX"
      },
      "execution_count": null,
      "outputs": []
    },
    {
      "cell_type": "code",
      "source": [
        "one_d"
      ],
      "metadata": {
        "id": "URtCyNdNyHW7"
      },
      "execution_count": null,
      "outputs": []
    },
    {
      "cell_type": "code",
      "source": [
        "from collections import Counter"
      ],
      "metadata": {
        "id": "H0yCnNVnykd3"
      },
      "execution_count": null,
      "outputs": []
    },
    {
      "cell_type": "code",
      "source": [
        "Counter(one_d)"
      ],
      "metadata": {
        "colab": {
          "base_uri": "https://localhost:8080/"
        },
        "id": "vsJNfo69ypLp",
        "outputId": "d40f5311-5696-4d69-b3bb-701b3c236605"
      },
      "execution_count": null,
      "outputs": [
        {
          "output_type": "execute_result",
          "data": {
            "text/plain": [
              "Counter({'Action': 303,\n",
              "         'Adventure': 259,\n",
              "         'Sci-Fi': 120,\n",
              "         'Mystery': 106,\n",
              "         'Horror': 119,\n",
              "         'Thriller': 195,\n",
              "         'Animation': 49,\n",
              "         'Comedy': 279,\n",
              "         'Family': 51,\n",
              "         'Fantasy': 101,\n",
              "         'Drama': 513,\n",
              "         'Music': 16,\n",
              "         'Biography': 81,\n",
              "         'Romance': 141,\n",
              "         'History': 29,\n",
              "         'Crime': 150,\n",
              "         'Western': 7,\n",
              "         'War': 13,\n",
              "         'Musical': 5,\n",
              "         'Sport': 18})"
            ]
          },
          "metadata": {},
          "execution_count": 128
        }
      ]
    },
    {
      "cell_type": "code",
      "source": [
        "x=data.iloc[:,2:14]\n",
        "y=data.iloc[:,14:15]\n",
        "print(x,'\\n',y)"
      ],
      "metadata": {
        "id": "NquA2fR0QvDr",
        "colab": {
          "base_uri": "https://localhost:8080/"
        },
        "outputId": "216ef6da-aaf8-470f-f5b4-cf8844242010"
      },
      "execution_count": null,
      "outputs": [
        {
          "output_type": "stream",
          "name": "stdout",
          "text": [
            "     Year  Runtime (Minutes)  Rating   Votes  Revenue (Millions)  Metascore  \\\n",
            "0    2014                121     8.1  757074              333.13       76.0   \n",
            "1    2012                124     7.0  485820              126.46       65.0   \n",
            "2    2016                117     7.3  157606              138.12       62.0   \n",
            "3    2016                108     7.2   60545              270.32       59.0   \n",
            "4    2016                123     6.2  393727              325.02       40.0   \n",
            "..    ...                ...     ...     ...                 ...        ...   \n",
            "995  2015                111     6.2   27585                 NaN       45.0   \n",
            "996  2007                 94     5.5   73152               17.54       46.0   \n",
            "997  2008                 98     6.2   70699               58.01       50.0   \n",
            "998  2014                 93     5.6    4881                 NaN       22.0   \n",
            "999  2016                 87     5.3   12435               19.64       11.0   \n",
            "\n",
            "                        Title rating_cat  \n",
            "0    The Shawshank Redemption  Excellent  \n",
            "1               The Godfather  Excellent  \n",
            "2             The Dark Knight  Excellent  \n",
            "3      The Godfather: Part II  Excellent  \n",
            "4                12 Angry Men       Good  \n",
            "..                        ...        ...  \n",
            "995    Breakfast at Tiffany's       Good  \n",
            "996                     Giant    Average  \n",
            "997     From Here to Eternity       Good  \n",
            "998                  Lifeboat    Average  \n",
            "999              The 39 Steps    Average  \n",
            "\n",
            "[1000 rows x 8 columns] \n",
            " Empty DataFrame\n",
            "Columns: []\n",
            "Index: [0, 1, 2, 3, 4, 5, 6, 7, 8, 9, 10, 11, 12, 13, 14, 15, 16, 17, 18, 19, 20, 21, 22, 23, 24, 25, 26, 27, 28, 29, 30, 31, 32, 33, 34, 35, 36, 37, 38, 39, 40, 41, 42, 43, 44, 45, 46, 47, 48, 49, 50, 51, 52, 53, 54, 55, 56, 57, 58, 59, 60, 61, 62, 63, 64, 65, 66, 67, 68, 69, 70, 71, 72, 73, 74, 75, 76, 77, 78, 79, 80, 81, 82, 83, 84, 85, 86, 87, 88, 89, 90, 91, 92, 93, 94, 95, 96, 97, 98, 99, ...]\n",
            "\n",
            "[1000 rows x 0 columns]\n"
          ]
        }
      ]
    },
    {
      "cell_type": "markdown",
      "source": [
        "x and y traing,testing"
      ],
      "metadata": {
        "id": "Uwl7_oW_JNiL"
      }
    },
    {
      "cell_type": "code",
      "source": [
        "from sklearn.model_selection import train_test_split                                                        \n",
        "X_train,x_test,y_train,y_test=train_test_split(x,y,test_size=0.20,random_state=2)\n",
        "print(X_train.shape)\n",
        "print(y_train.shape)\n",
        "print(x_test.shape)\n",
        "print(y_test.shape)"
      ],
      "metadata": {
        "colab": {
          "base_uri": "https://localhost:8080/"
        },
        "id": "cDPaDyBsJBAd",
        "outputId": "c9655237-d817-4f29-8790-9118a168e813"
      },
      "execution_count": null,
      "outputs": [
        {
          "output_type": "stream",
          "name": "stdout",
          "text": [
            "(800, 8)\n",
            "(800, 0)\n",
            "(200, 8)\n",
            "(200, 0)\n"
          ]
        }
      ]
    },
    {
      "cell_type": "code",
      "source": [
        "import platform; print(platform.platform())\n",
        "import sys; print(\"Python\", sys.version)\n",
        "import numpy; print(\"NumPy\", numpy.__version__)\n",
        "import scipy; print(\"SciPy\", scipy.__version__)\n",
        "import sklearn; print(\"Scikit-Learn\", sklearn.__version__)"
      ],
      "metadata": {
        "colab": {
          "base_uri": "https://localhost:8080/"
        },
        "id": "iNmxLDDwSGNf",
        "outputId": "abc986b3-00b9-487f-ce45-dfc8c775007a"
      },
      "execution_count": null,
      "outputs": [
        {
          "output_type": "stream",
          "name": "stdout",
          "text": [
            "Linux-5.10.133+-x86_64-with-glibc2.27\n",
            "Python 3.8.15 (default, Oct 12 2022, 19:14:39) \n",
            "[GCC 7.5.0]\n",
            "NumPy 1.21.6\n",
            "SciPy 1.7.3\n",
            "Scikit-Learn 1.0.2\n"
          ]
        }
      ]
    },
    {
      "cell_type": "markdown",
      "source": [],
      "metadata": {
        "id": "O6S4B1YVZWbA"
      }
    },
    {
      "cell_type": "markdown",
      "source": [
        "LASSO"
      ],
      "metadata": {
        "id": "bCsYxlhIJTwt"
      }
    },
    {
      "cell_type": "code",
      "source": [
        "import numpy as np\n",
        "from sklearn.metrics import mean_squared_error,r2_score \n",
        "from sklearn.linear_model import Lasso\n",
        "model_lasso= Lasso(alpha=0.01)\n",
        "model_lasso.fit(x,y) \n",
        "pred_train_lasso= model_lasso.predict(x_test)\n",
        "print(mean_squared_error(y_test,pred_train_lasso))"
      ],
      "metadata": {
        "id": "mlV37dA-QvKH",
        "colab": {
          "base_uri": "https://localhost:8080/",
          "height": 380
        },
        "outputId": "ab77e0d4-7f0f-47e8-db15-bef8cba60ea3"
      },
      "execution_count": null,
      "outputs": [
        {
          "output_type": "error",
          "ename": "ValueError",
          "evalue": "ignored",
          "traceback": [
            "\u001b[0;31m---------------------------------------------------------------------------\u001b[0m",
            "\u001b[0;31mValueError\u001b[0m                                Traceback (most recent call last)",
            "\u001b[0;32m<ipython-input-132-35acbb38145d>\u001b[0m in \u001b[0;36m<module>\u001b[0;34m\u001b[0m\n\u001b[1;32m      3\u001b[0m \u001b[0;32mfrom\u001b[0m \u001b[0msklearn\u001b[0m\u001b[0;34m.\u001b[0m\u001b[0mlinear_model\u001b[0m \u001b[0;32mimport\u001b[0m \u001b[0mLasso\u001b[0m\u001b[0;34m\u001b[0m\u001b[0;34m\u001b[0m\u001b[0m\n\u001b[1;32m      4\u001b[0m \u001b[0mmodel_lasso\u001b[0m\u001b[0;34m=\u001b[0m \u001b[0mLasso\u001b[0m\u001b[0;34m(\u001b[0m\u001b[0malpha\u001b[0m\u001b[0;34m=\u001b[0m\u001b[0;36m0.01\u001b[0m\u001b[0;34m)\u001b[0m\u001b[0;34m\u001b[0m\u001b[0;34m\u001b[0m\u001b[0m\n\u001b[0;32m----> 5\u001b[0;31m \u001b[0mmodel_lasso\u001b[0m\u001b[0;34m.\u001b[0m\u001b[0mfit\u001b[0m\u001b[0;34m(\u001b[0m\u001b[0mx\u001b[0m\u001b[0;34m,\u001b[0m\u001b[0my\u001b[0m\u001b[0;34m)\u001b[0m\u001b[0;34m\u001b[0m\u001b[0;34m\u001b[0m\u001b[0m\n\u001b[0m\u001b[1;32m      6\u001b[0m \u001b[0mpred_train_lasso\u001b[0m\u001b[0;34m=\u001b[0m \u001b[0mmodel_lasso\u001b[0m\u001b[0;34m.\u001b[0m\u001b[0mpredict\u001b[0m\u001b[0;34m(\u001b[0m\u001b[0mx_test\u001b[0m\u001b[0;34m)\u001b[0m\u001b[0;34m\u001b[0m\u001b[0;34m\u001b[0m\u001b[0m\n\u001b[1;32m      7\u001b[0m \u001b[0mprint\u001b[0m\u001b[0;34m(\u001b[0m\u001b[0mmean_squared_error\u001b[0m\u001b[0;34m(\u001b[0m\u001b[0my_test\u001b[0m\u001b[0;34m,\u001b[0m\u001b[0mpred_train_lasso\u001b[0m\u001b[0;34m)\u001b[0m\u001b[0;34m)\u001b[0m\u001b[0;34m\u001b[0m\u001b[0;34m\u001b[0m\u001b[0m\n",
            "\u001b[0;32m/usr/local/lib/python3.8/dist-packages/sklearn/linear_model/_coordinate_descent.py\u001b[0m in \u001b[0;36mfit\u001b[0;34m(self, X, y, sample_weight, check_input)\u001b[0m\n\u001b[1;32m    933\u001b[0m         \u001b[0;32mif\u001b[0m \u001b[0mcheck_input\u001b[0m\u001b[0;34m:\u001b[0m\u001b[0;34m\u001b[0m\u001b[0;34m\u001b[0m\u001b[0m\n\u001b[1;32m    934\u001b[0m             \u001b[0mX_copied\u001b[0m \u001b[0;34m=\u001b[0m \u001b[0mself\u001b[0m\u001b[0;34m.\u001b[0m\u001b[0mcopy_X\u001b[0m \u001b[0;32mand\u001b[0m \u001b[0mself\u001b[0m\u001b[0;34m.\u001b[0m\u001b[0mfit_intercept\u001b[0m\u001b[0;34m\u001b[0m\u001b[0;34m\u001b[0m\u001b[0m\n\u001b[0;32m--> 935\u001b[0;31m             X, y = self._validate_data(\n\u001b[0m\u001b[1;32m    936\u001b[0m                 \u001b[0mX\u001b[0m\u001b[0;34m,\u001b[0m\u001b[0;34m\u001b[0m\u001b[0;34m\u001b[0m\u001b[0m\n\u001b[1;32m    937\u001b[0m                 \u001b[0my\u001b[0m\u001b[0;34m,\u001b[0m\u001b[0;34m\u001b[0m\u001b[0;34m\u001b[0m\u001b[0m\n",
            "\u001b[0;32m/usr/local/lib/python3.8/dist-packages/sklearn/base.py\u001b[0m in \u001b[0;36m_validate_data\u001b[0;34m(self, X, y, reset, validate_separately, **check_params)\u001b[0m\n\u001b[1;32m    579\u001b[0m                 \u001b[0my\u001b[0m \u001b[0;34m=\u001b[0m \u001b[0mcheck_array\u001b[0m\u001b[0;34m(\u001b[0m\u001b[0my\u001b[0m\u001b[0;34m,\u001b[0m \u001b[0;34m**\u001b[0m\u001b[0mcheck_y_params\u001b[0m\u001b[0;34m)\u001b[0m\u001b[0;34m\u001b[0m\u001b[0;34m\u001b[0m\u001b[0m\n\u001b[1;32m    580\u001b[0m             \u001b[0;32melse\u001b[0m\u001b[0;34m:\u001b[0m\u001b[0;34m\u001b[0m\u001b[0;34m\u001b[0m\u001b[0m\n\u001b[0;32m--> 581\u001b[0;31m                 \u001b[0mX\u001b[0m\u001b[0;34m,\u001b[0m \u001b[0my\u001b[0m \u001b[0;34m=\u001b[0m \u001b[0mcheck_X_y\u001b[0m\u001b[0;34m(\u001b[0m\u001b[0mX\u001b[0m\u001b[0;34m,\u001b[0m \u001b[0my\u001b[0m\u001b[0;34m,\u001b[0m \u001b[0;34m**\u001b[0m\u001b[0mcheck_params\u001b[0m\u001b[0;34m)\u001b[0m\u001b[0;34m\u001b[0m\u001b[0;34m\u001b[0m\u001b[0m\n\u001b[0m\u001b[1;32m    582\u001b[0m             \u001b[0mout\u001b[0m \u001b[0;34m=\u001b[0m \u001b[0mX\u001b[0m\u001b[0;34m,\u001b[0m \u001b[0my\u001b[0m\u001b[0;34m\u001b[0m\u001b[0;34m\u001b[0m\u001b[0m\n\u001b[1;32m    583\u001b[0m \u001b[0;34m\u001b[0m\u001b[0m\n",
            "\u001b[0;32m/usr/local/lib/python3.8/dist-packages/sklearn/utils/validation.py\u001b[0m in \u001b[0;36mcheck_X_y\u001b[0;34m(X, y, accept_sparse, accept_large_sparse, dtype, order, copy, force_all_finite, ensure_2d, allow_nd, multi_output, ensure_min_samples, ensure_min_features, y_numeric, estimator)\u001b[0m\n\u001b[1;32m    962\u001b[0m         \u001b[0;32mraise\u001b[0m \u001b[0mValueError\u001b[0m\u001b[0;34m(\u001b[0m\u001b[0;34m\"y cannot be None\"\u001b[0m\u001b[0;34m)\u001b[0m\u001b[0;34m\u001b[0m\u001b[0;34m\u001b[0m\u001b[0m\n\u001b[1;32m    963\u001b[0m \u001b[0;34m\u001b[0m\u001b[0m\n\u001b[0;32m--> 964\u001b[0;31m     X = check_array(\n\u001b[0m\u001b[1;32m    965\u001b[0m         \u001b[0mX\u001b[0m\u001b[0;34m,\u001b[0m\u001b[0;34m\u001b[0m\u001b[0;34m\u001b[0m\u001b[0m\n\u001b[1;32m    966\u001b[0m         \u001b[0maccept_sparse\u001b[0m\u001b[0;34m=\u001b[0m\u001b[0maccept_sparse\u001b[0m\u001b[0;34m,\u001b[0m\u001b[0;34m\u001b[0m\u001b[0;34m\u001b[0m\u001b[0m\n",
            "\u001b[0;32m/usr/local/lib/python3.8/dist-packages/sklearn/utils/validation.py\u001b[0m in \u001b[0;36mcheck_array\u001b[0;34m(array, accept_sparse, accept_large_sparse, dtype, order, copy, force_all_finite, ensure_2d, allow_nd, ensure_min_samples, ensure_min_features, estimator)\u001b[0m\n\u001b[1;32m    744\u001b[0m                     \u001b[0marray\u001b[0m \u001b[0;34m=\u001b[0m \u001b[0marray\u001b[0m\u001b[0;34m.\u001b[0m\u001b[0mastype\u001b[0m\u001b[0;34m(\u001b[0m\u001b[0mdtype\u001b[0m\u001b[0;34m,\u001b[0m \u001b[0mcasting\u001b[0m\u001b[0;34m=\u001b[0m\u001b[0;34m\"unsafe\"\u001b[0m\u001b[0;34m,\u001b[0m \u001b[0mcopy\u001b[0m\u001b[0;34m=\u001b[0m\u001b[0;32mFalse\u001b[0m\u001b[0;34m)\u001b[0m\u001b[0;34m\u001b[0m\u001b[0;34m\u001b[0m\u001b[0m\n\u001b[1;32m    745\u001b[0m                 \u001b[0;32melse\u001b[0m\u001b[0;34m:\u001b[0m\u001b[0;34m\u001b[0m\u001b[0;34m\u001b[0m\u001b[0m\n\u001b[0;32m--> 746\u001b[0;31m                     \u001b[0marray\u001b[0m \u001b[0;34m=\u001b[0m \u001b[0mnp\u001b[0m\u001b[0;34m.\u001b[0m\u001b[0masarray\u001b[0m\u001b[0;34m(\u001b[0m\u001b[0marray\u001b[0m\u001b[0;34m,\u001b[0m \u001b[0morder\u001b[0m\u001b[0;34m=\u001b[0m\u001b[0morder\u001b[0m\u001b[0;34m,\u001b[0m \u001b[0mdtype\u001b[0m\u001b[0;34m=\u001b[0m\u001b[0mdtype\u001b[0m\u001b[0;34m)\u001b[0m\u001b[0;34m\u001b[0m\u001b[0;34m\u001b[0m\u001b[0m\n\u001b[0m\u001b[1;32m    747\u001b[0m             \u001b[0;32mexcept\u001b[0m \u001b[0mComplexWarning\u001b[0m \u001b[0;32mas\u001b[0m \u001b[0mcomplex_warning\u001b[0m\u001b[0;34m:\u001b[0m\u001b[0;34m\u001b[0m\u001b[0;34m\u001b[0m\u001b[0m\n\u001b[1;32m    748\u001b[0m                 raise ValueError(\n",
            "\u001b[0;32m/usr/local/lib/python3.8/dist-packages/pandas/core/generic.py\u001b[0m in \u001b[0;36m__array__\u001b[0;34m(self, dtype)\u001b[0m\n\u001b[1;32m   1991\u001b[0m \u001b[0;34m\u001b[0m\u001b[0m\n\u001b[1;32m   1992\u001b[0m     \u001b[0;32mdef\u001b[0m \u001b[0m__array__\u001b[0m\u001b[0;34m(\u001b[0m\u001b[0mself\u001b[0m\u001b[0;34m,\u001b[0m \u001b[0mdtype\u001b[0m\u001b[0;34m:\u001b[0m \u001b[0mNpDtype\u001b[0m \u001b[0;34m|\u001b[0m \u001b[0;32mNone\u001b[0m \u001b[0;34m=\u001b[0m \u001b[0;32mNone\u001b[0m\u001b[0;34m)\u001b[0m \u001b[0;34m->\u001b[0m \u001b[0mnp\u001b[0m\u001b[0;34m.\u001b[0m\u001b[0mndarray\u001b[0m\u001b[0;34m:\u001b[0m\u001b[0;34m\u001b[0m\u001b[0;34m\u001b[0m\u001b[0m\n\u001b[0;32m-> 1993\u001b[0;31m         \u001b[0;32mreturn\u001b[0m \u001b[0mnp\u001b[0m\u001b[0;34m.\u001b[0m\u001b[0masarray\u001b[0m\u001b[0;34m(\u001b[0m\u001b[0mself\u001b[0m\u001b[0;34m.\u001b[0m\u001b[0m_values\u001b[0m\u001b[0;34m,\u001b[0m \u001b[0mdtype\u001b[0m\u001b[0;34m=\u001b[0m\u001b[0mdtype\u001b[0m\u001b[0;34m)\u001b[0m\u001b[0;34m\u001b[0m\u001b[0;34m\u001b[0m\u001b[0m\n\u001b[0m\u001b[1;32m   1994\u001b[0m \u001b[0;34m\u001b[0m\u001b[0m\n\u001b[1;32m   1995\u001b[0m     def __array_wrap__(\n",
            "\u001b[0;31mValueError\u001b[0m: could not convert string to float: 'The Shawshank Redemption'"
          ]
        }
      ]
    },
    {
      "cell_type": "markdown",
      "source": [
        "RIDGE"
      ],
      "metadata": {
        "id": "8buz8M3pJjw_"
      }
    },
    {
      "cell_type": "code",
      "source": [
        "from sklearn.linear_model import Ridge \n",
        "rr= Ridge(alpha=0.01)\n",
        "rr.fit(X_train, y_train) \n",
        "pred_train_rr= rr.predict(X_train)\n",
        "print(np.sqrt(mean_squared_error(y_train,pred_train_rr)))\n",
        "print(r2_score(y_train, pred_train_rr))"
      ],
      "metadata": {
        "id": "xpu7dCbqJoCg"
      },
      "execution_count": null,
      "outputs": []
    },
    {
      "cell_type": "markdown",
      "source": [
        "LINEAR"
      ],
      "metadata": {
        "id": "vUzmIWfdZX2g"
      }
    },
    {
      "cell_type": "code",
      "source": [
        "from sklearn.linear_model import LinearRegression\n",
        "model = LinearRegression()\n",
        "model.fit(x, y)\n",
        "model = LinearRegression().fit(x, y)\n",
        "r_sq = model.score(x, y)\n",
        "print(f\"coefficient of determination: {r_sq}\")\n",
        "\n",
        "print(f\"intercept: {model.intercept_}\")"
      ],
      "metadata": {
        "id": "EA9EYZ6TZaaK"
      },
      "execution_count": null,
      "outputs": []
    },
    {
      "cell_type": "code",
      "source": [
        "from sklearn import linear_model\n",
        "from sklearn.metrics import mean_squared_error,mean_absolute_error\n",
        "reg_all=linear_model.LinearRegression()\n",
        "reg_all.fit(X_train,y_train)\n",
        "y_pred=reg_all.predict(x_test)\n",
        "Rsquare=reg_all.score(x_test,y_test)\n",
        "print(\"Rsquare:\",Rsquare)\n",
        "print(\"Intercept:\",reg_all.intercept_)\n",
        "mse=mean_squared_error(y_test,y_pred)\n",
        "print(\"mse:\",mse)\n",
        "mae = mean_absolute_error(y_test,y_pred)\n",
        "print(\"mae:\",mae)"
      ],
      "metadata": {
        "id": "Fx2DBuLBZe4p"
      },
      "execution_count": null,
      "outputs": []
    }
  ],
  "metadata": {
    "colab": {
      "provenance": [],
      "toc_visible": true,
      "include_colab_link": true
    },
    "kernelspec": {
      "display_name": "Python 3",
      "name": "python3"
    }
  },
  "nbformat": 4,
  "nbformat_minor": 0
}